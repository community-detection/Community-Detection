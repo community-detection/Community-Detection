{
 "cells": [
  {
   "cell_type": "markdown",
   "metadata": {},
   "source": [
    "<div class=\"alert\" style=\"background-color:#fff; color:white; padding:0px 10px; border-radius:5px;\"><h1 style='margin:15px 15px; color:#738ab8; font-size:40px; text-align:center;'>Community Detection</h1>\n",
    "</div>\n",
    "\n"
   ]
  },
  {
   "attachments": {},
   "cell_type": "markdown",
   "metadata": {},
   "source": [
    "<img src=\"stage1.png\">"
   ]
  },
  {
   "cell_type": "markdown",
   "metadata": {},
   "source": [
    "***"
   ]
  },
  {
   "cell_type": "markdown",
   "metadata": {},
   "source": [
    "### Importing all required libraries."
   ]
  },
  {
   "cell_type": "code",
   "execution_count": null,
   "metadata": {},
   "outputs": [],
   "source": [
    "from os import listdir\n",
    "from os.path import isfile, join\n",
    "import pathlib\n",
    "import string\n",
    "import numpy as np\n",
    "import tqdm\n",
    "import spacy\n",
    "import re\n",
    "# pandas\n",
    "import pandas as pd\n",
    "# nltk\n",
    "import nltk\n",
    "from nltk.stem import SnowballStemmer \n",
    "from nltk.corpus import stopwords\n",
    "#gensim\n",
    "import gensim\n",
    "from gensim.parsing.preprocessing import remove_stopwords\n",
    "from gensim.utils import simple_preprocess\n",
    "from gensim import corpora, models\n",
    "from gensim.models import CoherenceModel\n",
    "# pyLDAvis\n",
    "import matplotlib.pyplot as plt\n",
    "import pyLDAvis\n",
    "import pyLDAvis.gensim_models as gensimvis"
   ]
  },
  {
   "cell_type": "markdown",
   "metadata": {},
   "source": [
    "***"
   ]
  },
  {
   "cell_type": "markdown",
   "metadata": {},
   "source": [
    "<div class=\"alert alert-info\" style=\"background-color:#cce5ff; color:white; padding:0px 10px; border-radius:5px;\"><h2 style='margin:10px 5px; color:black; text-align:center;font-size:40px;'>Stage 1-A</h2>\n",
    "    <br>\n",
    "    <h2 style='margin:10px 5px; color:black; text-align:center;font-size:40px;'>Data Preprocessing</h2>\n",
    "</div>"
   ]
  },
  {
   "cell_type": "markdown",
   "metadata": {},
   "source": [
    "## Reading the data."
   ]
  },
  {
   "cell_type": "code",
   "execution_count": null,
   "metadata": {},
   "outputs": [],
   "source": [
    "channels = ['techchap', \"dave2d\", \"ijustine\", \"mkbhd\"]\n",
    "\n",
    "df = pd.DataFrame()\n",
    "#looping over the channels\n",
    "for channel in channels:\n",
    "    #opening the directory of that channel\n",
    "    files = [f for f in listdir(\"./Youtube-Data/\"+ channel + \"/\"+ channel + \"-subtitles\")]\n",
    "    #looping over the files of channel\n",
    "    for file in files: \n",
    "        try:\n",
    "            with open (join(\"./Youtube-Data/\"+ channel + \"/\"+ channel + \"-subtitles\", file), \"r\") as myfile:\n",
    "                data=myfile.read().replace('\\n', ' ')\n",
    "            # clean the data from all punctuation \n",
    "            data = data.translate(str.maketrans('', '', string.punctuation))\n",
    "\n",
    "            tempData = pd.DataFrame([[file, data]])\n",
    "\n",
    "            df = df.append(tempData, ignore_index=True)\n",
    "        except:\n",
    "            print(join(\"./Youtube-Data/\"+ channel + \"/\"+ channel + \"-subtitles\", file))"
   ]
  },
  {
   "cell_type": "markdown",
   "metadata": {},
   "source": [
    "## Viewing the data"
   ]
  },
  {
   "cell_type": "code",
   "execution_count": 2,
   "metadata": {},
   "outputs": [
    {
     "data": {
      "text/html": [
       "<div>\n",
       "<style scoped>\n",
       "    .dataframe tbody tr th:only-of-type {\n",
       "        vertical-align: middle;\n",
       "    }\n",
       "\n",
       "    .dataframe tbody tr th {\n",
       "        vertical-align: top;\n",
       "    }\n",
       "\n",
       "    .dataframe thead th {\n",
       "        text-align: right;\n",
       "    }\n",
       "</style>\n",
       "<table border=\"1\" class=\"dataframe\">\n",
       "  <thead>\n",
       "    <tr style=\"text-align: right;\">\n",
       "      <th></th>\n",
       "      <th>file</th>\n",
       "      <th>text</th>\n",
       "    </tr>\n",
       "  </thead>\n",
       "  <tbody>\n",
       "    <tr>\n",
       "      <th>0</th>\n",
       "      <td>C12D0TtKqVs.txt</td>\n",
       "      <td>this is going to be a pretty special unboxing ...</td>\n",
       "    </tr>\n",
       "    <tr>\n",
       "      <th>1</th>\n",
       "      <td>Vd-SsCiO-g0.txt</td>\n",
       "      <td>hi guys thank you very much for joining me my ...</td>\n",
       "    </tr>\n",
       "    <tr>\n",
       "      <th>2</th>\n",
       "      <td>wdt9hrwiaJs.txt</td>\n",
       "      <td>hi guys thank you very much for joining me my ...</td>\n",
       "    </tr>\n",
       "    <tr>\n",
       "      <th>3</th>\n",
       "      <td>zONg2dp0rss.txt</td>\n",
       "      <td>hey guys Im Tom a tech job and after four long...</td>\n",
       "    </tr>\n",
       "    <tr>\n",
       "      <th>4</th>\n",
       "      <td>qBWnmy_F5N0.txt</td>\n",
       "      <td>I think the love shake circle is one as small ...</td>\n",
       "    </tr>\n",
       "    <tr>\n",
       "      <th>...</th>\n",
       "      <td>...</td>\n",
       "      <td>...</td>\n",
       "    </tr>\n",
       "    <tr>\n",
       "      <th>4566</th>\n",
       "      <td>K7uLph0s6f0.txt</td>\n",
       "      <td>hey whats up guys how you doing hows done so i...</td>\n",
       "    </tr>\n",
       "    <tr>\n",
       "      <th>4567</th>\n",
       "      <td>wUhf0sWhtKw.txt</td>\n",
       "      <td>Music hey whats up guys mkbhd here havent worn...</td>\n",
       "    </tr>\n",
       "    <tr>\n",
       "      <th>4568</th>\n",
       "      <td>ay8Ya0DYDYE.txt</td>\n",
       "      <td>Music hey whats up guys MTV HD here back with ...</td>\n",
       "    </tr>\n",
       "    <tr>\n",
       "      <th>4569</th>\n",
       "      <td>JUsA_Qy8fXE.txt</td>\n",
       "      <td>hey everyone and welcome to another HT tutoria...</td>\n",
       "    </tr>\n",
       "    <tr>\n",
       "      <th>4570</th>\n",
       "      <td>4i3oKEg6o9g.txt</td>\n",
       "      <td>Music hey what is up guys Im Kay PhD here and ...</td>\n",
       "    </tr>\n",
       "  </tbody>\n",
       "</table>\n",
       "<p>4571 rows × 2 columns</p>\n",
       "</div>"
      ],
      "text/plain": [
       "                 file                                               text\n",
       "0     C12D0TtKqVs.txt  this is going to be a pretty special unboxing ...\n",
       "1     Vd-SsCiO-g0.txt  hi guys thank you very much for joining me my ...\n",
       "2     wdt9hrwiaJs.txt  hi guys thank you very much for joining me my ...\n",
       "3     zONg2dp0rss.txt  hey guys Im Tom a tech job and after four long...\n",
       "4     qBWnmy_F5N0.txt  I think the love shake circle is one as small ...\n",
       "...               ...                                                ...\n",
       "4566  K7uLph0s6f0.txt  hey whats up guys how you doing hows done so i...\n",
       "4567  wUhf0sWhtKw.txt  Music hey whats up guys mkbhd here havent worn...\n",
       "4568  ay8Ya0DYDYE.txt  Music hey whats up guys MTV HD here back with ...\n",
       "4569  JUsA_Qy8fXE.txt  hey everyone and welcome to another HT tutoria...\n",
       "4570  4i3oKEg6o9g.txt  Music hey what is up guys Im Kay PhD here and ...\n",
       "\n",
       "[4571 rows x 2 columns]"
      ]
     },
     "execution_count": 2,
     "metadata": {},
     "output_type": "execute_result"
    }
   ],
   "source": [
    "df.columns = [\"file\", \"text\"]\n",
    "df"
   ]
  },
  {
   "attachments": {},
   "cell_type": "markdown",
   "metadata": {},
   "source": [
    "***\n",
    "<div class=\"alert alert-info\" style=\"background-color:#cce5ff; color:white; padding:0px 10px; border-radius:5px;\"><h2 style='margin:10px 5px; color:black;'>Preprocessing pipeline</h2>\n",
    "</div>\n",
    "\n",
    "<img src=\"cleaning-pipeline.png\">"
   ]
  },
  {
   "cell_type": "code",
   "execution_count": 5,
   "metadata": {},
   "outputs": [],
   "source": [
    "# Convert the titles to lowercase\n",
    "df['text'] = df['text'].map(lambda x: x.lower())\n",
    "\n",
    "REPLACE_BY_SPACE_RE = re.compile('[/(){}\\[\\]\\|@,;]')\n",
    "BAD_SYMBOLS_RE = re.compile('[^0-9a-z #+_\\']')\n",
    "stemmer = SnowballStemmer('english')\n",
    "\n",
    "# stopwords from nltk\n",
    "sw = stopwords.words(\"english\") \n",
    "\n",
    "# stopwords from gensim\n",
    "gensim_stopwords = gensim.parsing.preprocessing.STOPWORDS\n",
    "\n",
    "# stop words from https://gist.github.com/larsyencken/1440509\n",
    "stopwords_f_1 = []\n",
    "with open('stopwords.txt', 'r') as f:\n",
    "    for word in f:\n",
    "        word = word.split('\\n')\n",
    "        stopwords_f_1.append(word[0])\n",
    "        \n",
    "# stop words from https://countwordsfree.com/stopwords/english        \n",
    "stopwords_f_2 = []\n",
    "with open('stop_words_english.txt', 'r') as f:\n",
    "    for word in f:\n",
    "        word = word.split('\\n')\n",
    "        stopwords_f_2.append(word[0])        \n",
    "        \n",
    "# combining the stopwords collection into one list        \n",
    "stopwords_collection = list(gensim_stopwords)+stopwords_f_1+sw+stopwords_f_2\n",
    "# adding more stopwords that we discovered while analyzing the data\n",
    "stopwords_collection.extend(['guy','hey','ill','bit','hit','fall','ive','set','kay','phd','guys','lot','pretty','people'])\n",
    "stopwords_collection = set(stopwords_collection)\n",
    "\n",
    "# stemming function\n",
    "ps = nltk.PorterStemmer()\n",
    "def stemming(text_sentence): \n",
    "    text = [ps.stem(word) for word in text_sentence.split()]\n",
    "    return ' '.join(text)\n",
    "\n",
    "# lemmatizing function\n",
    "wm = nltk.WordNetLemmatizer()\n",
    "def lemmatize(text_sentence):\n",
    "    text = [wm.lemmatize(word) for word in text_sentence.split()]\n",
    "    return ' '.join(text)\n",
    "\n",
    "# cleaning the text from special characters and numbers function\n",
    "def clean_text(text):\n",
    "    text = text.lower() # lowercase text\n",
    "    text = REPLACE_BY_SPACE_RE.sub(' ', text) # replace REPLACE_BY_SPACE_RE symbols by space in text. substitute the matched string in REPLACE_BY_SPACE_RE with space.\n",
    "    text = BAD_SYMBOLS_RE.sub('', text) # remove symbols which are in BAD_SYMBOLS_RE from text. substitute the matched string in BAD_SYMBOLS_RE with nothing. \n",
    "    text = re.sub('\\d+', '', text)\n",
    "    return text\n",
    "\n",
    "# removing the stopwords function\n",
    "def stopwords_remover(text):\n",
    "    text = re.sub('\\'\\w+', '', text) # Remove ticks and the next character \n",
    "    text = ' '.join(word for word in text.split() if word not in stopwords_collection) # remove stopwors from text\n",
    "    return text\n",
    "\n",
    "# removing the stopwords without punctuation marks\n",
    "def stopwords_remover_clear(text):\n",
    "    stopwords_collection_cleaned = [re.compile('[^\\w\\s]').sub('', i) for i in stopwords_collection]\n",
    "    text = re.sub('\\'\\w+', '', text) # Remove ticks and the next character \n",
    "    text = ' '.join(word for word in text.split() if word not in stopwords_collection_cleaned) # remove stopwors from text\n",
    "    return text\n",
    "<div class=\"alert alert-info\" style=\"background-color:#cce5ff; color:white; padding:0px 10px; border-radius:5px;\"><h2 style='margin:10px 5px; color:black;'>Stage 1-A: Data Preprocessing</h2>\n",
    "</div>\n",
    "#preprocessing pipeline\n",
    "def preprocess_text(df):\n",
    "    df = df.reset_index(drop=True)\n",
    "    # cleaning the text from special charachters\n",
    "    df['text'] = df['text'].apply(lambda x : clean_text(x))\n",
    "    print(\"cleaned\")\n",
    "    # removing stopwords\n",
    "    df['text'] = df['text'].apply(lambda x: stopwords_remover(x))\n",
    "    print(\"stopwords removed\")\n",
    "    # removing stopwords\n",
    "    df['text'] = df['text'].apply(lambda x: stopwords_remover_clear(x))\n",
    "    print(\"cleaned stopwords removed\")\n",
    "    # lemmatization\n",
    "    df['text'] = df['text'].apply(lambda x : lemmatize(x))\n",
    "    print(\"lemmatized\")\n",
    "    # stemming\n",
    "    df['text'] = df['text'].apply(lambda x : stemming(x))\n",
    "    print(\"stemmig\")\n",
    "    # removing numbers\n",
    "    df['text'] = df['text'].str.replace('\\d+', '')\n",
    "    print(\"numbers removed\")\n",
    "    \n",
    "    return df\n"
   ]
  },
  {
   "cell_type": "markdown",
   "metadata": {},
   "source": [
    "## Applying the preprocessing pipeline on the data."
   ]
  },
  {
   "cell_type": "code",
   "execution_count": 6,
   "metadata": {},
   "outputs": [
    {
     "name": "stdout",
     "output_type": "stream",
     "text": [
      "cleaned\n",
      "stopwords removed\n",
      "cleaned stopwords removed\n",
      "lemmatized\n",
      "stemmig\n",
      "numbers removed\n"
     ]
    },
    {
     "name": "stderr",
     "output_type": "stream",
     "text": [
      "<ipython-input-5-e71fd9d0a023>:78: FutureWarning: The default value of regex will change from True to False in a future version.\n",
      "  df['text'] = df['text'].str.replace('\\d+', '')\n"
     ]
    }
   ],
   "source": [
    "df = preprocess_text(df)\n",
    "df = df[df['text'].str.len()!=0]"
   ]
  },
  {
   "cell_type": "code",
   "execution_count": 7,
   "metadata": {},
   "outputs": [
    {
     "data": {
      "text/html": [
       "<div>\n",
       "<style scoped>\n",
       "    .dataframe tbody tr th:only-of-type {\n",
       "        vertical-align: middle;\n",
       "    }\n",
       "\n",
       "    .dataframe tbody tr th {\n",
       "        vertical-align: top;\n",
       "    }\n",
       "\n",
       "    .dataframe thead th {\n",
       "        text-align: right;\n",
       "    }\n",
       "</style>\n",
       "<table border=\"1\" class=\"dataframe\">\n",
       "  <thead>\n",
       "    <tr style=\"text-align: right;\">\n",
       "      <th></th>\n",
       "      <th>file</th>\n",
       "      <th>text</th>\n",
       "    </tr>\n",
       "  </thead>\n",
       "  <tbody>\n",
       "    <tr>\n",
       "      <th>0</th>\n",
       "      <td>C12D0TtKqVs.txt</td>\n",
       "      <td>special unbox brand black box hope box gonna d...</td>\n",
       "    </tr>\n",
       "    <tr>\n",
       "      <th>1</th>\n",
       "      <td>Vd-SsCiO-g0.txt</td>\n",
       "      <td>join tom tech jab review samsung galaxi tab in...</td>\n",
       "    </tr>\n",
       "    <tr>\n",
       "      <th>2</th>\n",
       "      <td>wdt9hrwiaJs.txt</td>\n",
       "      <td>join tom tech chap video audio comparison cano...</td>\n",
       "    </tr>\n",
       "    <tr>\n",
       "      <th>3</th>\n",
       "      <td>zONg2dp0rss.txt</td>\n",
       "      <td>tom tech job appl final updat ipad mini techni...</td>\n",
       "    </tr>\n",
       "    <tr>\n",
       "      <th>4</th>\n",
       "      <td>qBWnmy_F5N0.txt</td>\n",
       "      <td>love shake circl cutest secur camera portabl w...</td>\n",
       "    </tr>\n",
       "    <tr>\n",
       "      <th>...</th>\n",
       "      <td>...</td>\n",
       "      <td>...</td>\n",
       "    </tr>\n",
       "    <tr>\n",
       "      <th>4566</th>\n",
       "      <td>K7uLph0s6f0.txt</td>\n",
       "      <td>week upload video reason shock awe happen luck...</td>\n",
       "    </tr>\n",
       "    <tr>\n",
       "      <th>4567</th>\n",
       "      <td>wUhf0sWhtKw.txt</td>\n",
       "      <td>music mkbhd worn shirt store shop mkbhd calm n...</td>\n",
       "    </tr>\n",
       "    <tr>\n",
       "      <th>4568</th>\n",
       "      <td>ay8Ya0DYDYE.txt</td>\n",
       "      <td>music mtv hd type video midst galaxi hype smar...</td>\n",
       "    </tr>\n",
       "    <tr>\n",
       "      <th>4569</th>\n",
       "      <td>JUsA_Qy8fXE.txt</td>\n",
       "      <td>ht tutori video download instal firefox beta i...</td>\n",
       "    </tr>\n",
       "    <tr>\n",
       "      <th>4570</th>\n",
       "      <td>4i3oKEg6o9g.txt</td>\n",
       "      <td>music googl compani money idea bring awesom pu...</td>\n",
       "    </tr>\n",
       "  </tbody>\n",
       "</table>\n",
       "<p>4567 rows × 2 columns</p>\n",
       "</div>"
      ],
      "text/plain": [
       "                 file                                               text\n",
       "0     C12D0TtKqVs.txt  special unbox brand black box hope box gonna d...\n",
       "1     Vd-SsCiO-g0.txt  join tom tech jab review samsung galaxi tab in...\n",
       "2     wdt9hrwiaJs.txt  join tom tech chap video audio comparison cano...\n",
       "3     zONg2dp0rss.txt  tom tech job appl final updat ipad mini techni...\n",
       "4     qBWnmy_F5N0.txt  love shake circl cutest secur camera portabl w...\n",
       "...               ...                                                ...\n",
       "4566  K7uLph0s6f0.txt  week upload video reason shock awe happen luck...\n",
       "4567  wUhf0sWhtKw.txt  music mkbhd worn shirt store shop mkbhd calm n...\n",
       "4568  ay8Ya0DYDYE.txt  music mtv hd type video midst galaxi hype smar...\n",
       "4569  JUsA_Qy8fXE.txt  ht tutori video download instal firefox beta i...\n",
       "4570  4i3oKEg6o9g.txt  music googl compani money idea bring awesom pu...\n",
       "\n",
       "[4567 rows x 2 columns]"
      ]
     },
     "execution_count": 7,
     "metadata": {},
     "output_type": "execute_result"
    }
   ],
   "source": [
    "df"
   ]
  },
  {
   "cell_type": "markdown",
   "metadata": {},
   "source": [
    "***\n",
    "<div class=\"alert alert-info\" style=\"background-color:#cce5ff; color:white; padding:0px 10px; border-radius:5px;\"><h2 style='margin:10px 5px; color:black;'>TF-IDF Transformation</h2>\n",
    "</div>"
   ]
  },
  {
   "cell_type": "code",
   "execution_count": 12,
   "metadata": {},
   "outputs": [],
   "source": [
    "def sent_to_words(sentences):\n",
    "    for sentence in sentences:\n",
    "        yield(gensim.utils.simple_preprocess(str(sentence), deacc=True))  # deacc=True removes punctuations\n",
    "        \n",
    "data = df.text.values.tolist()\n",
    "data_words = list(sent_to_words(data))\n",
    "\n",
    "dictionary = gensim.corpora.Dictionary(data_words)\n",
    "dictionary.filter_extremes(no_below=15, no_above=0.5, keep_n=100000)\n",
    "bow_corpus = [dictionary.doc2bow(doc) for doc in data_words]\n",
    "\n",
    "from gensim import corpora, models\n",
    "tfidf = models.TfidfModel(bow_corpus)\n",
    "corpus = tfidf[bow_corpus]\n"
   ]
  },
  {
   "cell_type": "markdown",
   "metadata": {},
   "source": [
    "***\n",
    "<div class=\"alert alert-info\" style=\"background-color:#cce5ff; color:white; padding:0px 10px; border-radius:5px;\"><h2 style='margin:10px 5px; color:black; text-align:center;font-size:40px;'>Stage 1-B</h2>\n",
    "    <br>\n",
    "    <h2 style='margin:10px 5px; color:black; text-align:center;font-size:40px;'>LDA Model</h2>\n",
    "</div>"
   ]
  },
  {
   "cell_type": "markdown",
   "metadata": {},
   "source": [
    "### After cleaning the data and transformed it into a tf-idf, we analyzed the topics of the data."
   ]
  },
  {
   "cell_type": "code",
   "execution_count": 16,
   "metadata": {},
   "outputs": [],
   "source": [
    "# supporting function to train a model and compute \n",
    "def compute_coherence_values(corpus, dictionary, k):\n",
    "    \n",
    "    lda_model = gensim.models.LdaMulticore(corpus=corpus,\n",
    "                                           id2word=dictionary,\n",
    "                                           num_topics=k, \n",
    "                                           random_state=100,\n",
    "                                           chunksize=100,\n",
    "                                           passes=10)\n",
    "    \n",
    "    coherence_model_lda = CoherenceModel(model=lda_model, texts=data_words, dictionary=dictionary, coherence='c_v')\n",
    "    \n",
    "    return coherence_model_lda.get_coherence()\n"
   ]
  },
  {
   "cell_type": "markdown",
   "metadata": {},
   "source": [
    "***\n",
    "<div class=\"alert alert-info\" style=\"background-color:#cce5ff; color:white; padding:0px 10px; border-radius:5px;\"><h2 style='margin:10px 5px; color:black;'>Training the model</h2>\n",
    "</div>"
   ]
  },
  {
   "cell_type": "code",
   "execution_count": 17,
   "metadata": {
    "scrolled": true
   },
   "outputs": [
    {
     "name": "stderr",
     "output_type": "stream",
     "text": [
      "100%|██████████| 9/9 [06:32<00:00, 43.59s/it]\n"
     ]
    }
   ],
   "source": [
    "# Topics range\n",
    "min_topics = 1\n",
    "max_topics = 10\n",
    "step_size = 1\n",
    "topics_range = range(min_topics, max_topics, step_size)\n",
    "num_of_docs = len(corpus)\n",
    "corpus_sets = [corpus]\n",
    "model_results = {'Topics': [],\n",
    "                 'Coherence': []\n",
    "                }\n",
    "# Can take a long time to run\n",
    "if 1 == 1:\n",
    "    pbar = tqdm.tqdm(total=9)\n",
    "    \n",
    "    # iterate through validation corpuses\n",
    "    for i in range(len(corpus_sets)):\n",
    "        # iterate through number of topics\n",
    "        for k in topics_range:\n",
    "            # get the coherence score for the given parameters\n",
    "            cv = compute_coherence_values(corpus=corpus_sets[i], dictionary=dictionary, \n",
    "                                          k=k)\n",
    "            # Save the model results\n",
    "            model_results['Topics'].append(k)\n",
    "            model_results['Coherence'].append(cv)\n",
    "\n",
    "            pbar.update(1)\n",
    "    pd.DataFrame(model_results).to_csv('lda_tuning_results_final.csv', index=False)\n",
    "    pbar.close()\n"
   ]
  },
  {
   "cell_type": "markdown",
   "metadata": {},
   "source": [
    "***\n",
    "<div class=\"alert alert-info\" style=\"background-color:#cce5ff; color:white; padding:0px 10px; border-radius:5px;\"><h2 style='margin:10px 5px; color:black;'>Coherence score of each number of topics</h2>\n",
    "</div>"
   ]
  },
  {
   "cell_type": "code",
   "execution_count": 27,
   "metadata": {},
   "outputs": [
    {
     "name": "stderr",
     "output_type": "stream",
     "text": [
      "/home/sad/anaconda3/lib/python3.8/site-packages/ipykernel/ipkernel.py:287: DeprecationWarning: `should_run_async` will not call `transform_cell` automatically in the future. Please pass the result to `transformed_cell` argument and any exception that happen during thetransform in `preprocessing_exc_tuple` in IPython 7.17 and above.\n",
      "  and should_run_async(code)\n"
     ]
    },
    {
     "data": {
      "image/png": "[encoded data removed]",
      "text/plain": [
       "<Figure size 432x288 with 1 Axes>"
      ]
     },
     "metadata": {
      "needs_background": "light"
     },
     "output_type": "display_data"
    }
   ],
   "source": [
    "limit=10; start=1; step=1;\n",
    "x = range(start, limit, step)\n",
    "plt.plot(x, pd.read_csv('lda_tuning_results_final.csv')['Coherence'])\n",
    "plt.xlabel(\"Num Topics\")\n",
    "plt.ylabel(\"Coherence score\")\n",
    "plt.legend((\"coherence_values\"), loc='best')\n",
    "plt.show()"
   ]
  },
  {
   "cell_type": "markdown",
   "metadata": {},
   "source": [
    "## After training alot of models on various number of topics that range from 1 to 300 and trying several language models, we found out that 7 topics with a uni-gram language model gave the best results.\n",
    "***"
   ]
  },
  {
   "cell_type": "markdown",
   "metadata": {},
   "source": [
    "### Creating a model with 7 topics"
   ]
  },
  {
   "cell_type": "code",
   "execution_count": 20,
   "metadata": {},
   "outputs": [
    {
     "name": "stdout",
     "output_type": "stream",
     "text": [
      "\n",
      "Coherence Score:  0.659889510568225\n"
     ]
    }
   ],
   "source": [
    "lda_model = gensim.models.LdaMulticore(corpus=corpus,\n",
    "                                           id2word=dictionary,\n",
    "                                           num_topics=7, \n",
    "                                           random_state=100,\n",
    "                                           chunksize=100,\n",
    "                                           passes=10)\n",
    "# Compute Coherence Score\n",
    "coherence_model_lda = CoherenceModel(model=lda_model, texts=data_words, dictionary=dictionary, coherence='c_v')\n",
    "coherence_lda = coherence_model_lda.get_coherence()\n",
    "print('\\nCoherence Score: ', coherence_lda)\n"
   ]
  },
  {
   "cell_type": "markdown",
   "metadata": {},
   "source": [
    "### Top words of each topic"
   ]
  },
  {
   "cell_type": "code",
   "execution_count": 21,
   "metadata": {},
   "outputs": [
    {
     "name": "stdout",
     "output_type": "stream",
     "text": [
      "Topic: 0 Word: 0.012*\"cake\" + 0.011*\"jenna\" + 0.008*\"justin\" + 0.007*\"maddi\" + 0.007*\"ice\" + 0.007*\"god\" + 0.007*\"cook\" + 0.006*\"cooki\" + 0.006*\"tast\" + 0.006*\"egg\"\n",
      "Topic: 1 Word: 0.020*\"laptop\" + 0.010*\"keyboard\" + 0.008*\"game\" + 0.007*\"xp\" + 0.007*\"devic\" + 0.006*\"perform\" + 0.005*\"macbook\" + 0.005*\"cpu\" + 0.005*\"trackpad\" + 0.005*\"gpu\"\n",
      "Topic: 2 Word: 0.016*\"tutori\" + 0.012*\"window\" + 0.011*\"vista\" + 0.011*\"safari\" + 0.010*\"firefox\" + 0.009*\"download\" + 0.009*\"click\" + 0.009*\"browser\" + 0.008*\"instal\" + 0.008*\"menu\"\n",
      "Topic: 3 Word: 0.000*\"dl\" + 0.000*\"blackberri\" + 0.000*\"trace\" + 0.000*\"ray\" + 0.000*\"rt\" + 0.000*\"game\" + 0.000*\"rtx\" + 0.000*\"laptop\" + 0.000*\"battlefield\" + 0.000*\"fp\"\n",
      "Topic: 4 Word: 0.004*\"yeti\" + 0.002*\"yahoo\" + 0.001*\"talent\" + 0.001*\"martyr\" + 0.001*\"pg\" + 0.001*\"monitor\" + 0.001*\"tn\" + 0.000*\"va\" + 0.000*\"gsync\" + 0.000*\"ip\"\n",
      "Topic: 5 Word: 0.009*\"mous\" + 0.008*\"mac\" + 0.008*\"monitor\" + 0.008*\"pro\" + 0.007*\"macbook\" + 0.007*\"laptop\" + 0.006*\"ipad\" + 0.006*\"usb\" + 0.005*\"pc\" + 0.005*\"port\"\n",
      "Topic: 6 Word: 0.007*\"phone\" + 0.004*\"camera\" + 0.004*\"iphon\" + 0.003*\"galaxi\" + 0.003*\"googl\" + 0.003*\"app\" + 0.003*\"appl\" + 0.002*\"display\" + 0.002*\"samsung\" + 0.002*\"android\"\n"
     ]
    }
   ],
   "source": [
    "for idx, topic in lda_model.print_topics(-1):\n",
    "    print('Topic: {} Word: {}'.format(idx, topic))\n"
   ]
  },
  {
   "cell_type": "markdown",
   "metadata": {},
   "source": [
    "***\n",
    "<div class=\"alert alert-info\" style=\"background-color:#cce5ff; color:white; padding:0px 10px; border-radius:5px;\"><h2 style='margin:10px 5px; color:black;'>Visualizing the topics</h2>\n",
    "</div>"
   ]
  },
  {
   "cell_type": "code",
   "execution_count": 22,
   "metadata": {
    "scrolled": false
   },
   "outputs": [
    {
     "name": "stderr",
     "output_type": "stream",
     "text": [
      "/home/sad/.local/lib/python3.8/site-packages/sklearn/decomposition/_lda.py:28: DeprecationWarning: `np.float` is a deprecated alias for the builtin `float`. To silence this warning, use `float` by itself. Doing this will not modify any behavior and is safe. If you specifically wanted the numpy scalar type, use `np.float64` here.\n",
      "Deprecated in NumPy 1.20; for more details and guidance: https://numpy.org/devdocs/release/1.20.0-notes.html#deprecations\n",
      "  EPS = np.finfo(np.float).eps\n"
     ]
    },
    {
     "data": {
      "text/html": [
       "\n",
       "<link rel=\"stylesheet\" type=\"text/css\" href=\"https://cdn.jsdelivr.net/gh/bmabey/pyLDAvis@3.3.1/pyLDAvis/js/ldavis.v1.0.0.css\">\n",
       "\n",
       "\n",
       "<div id=\"ldavis_el322511405745381278404414594546\"></div>\n",
       "<script type=\"text/javascript\">\n",
       "\n",
       "var ldavis_el322511405745381278404414594546_data = {\"mdsDat\": {\"x\": [-0.028272306804175418, -0.11418651007564525, 0.2270975765681797, -0.10609991797530624, -0.05972271599119833, 0.04038018342759972, 0.040803690850546005], \"y\": [0.009597829885004834, -0.12773229801617825, -0.025895314704272, -0.02933778963568538, 0.18525135610789045, -0.00635161973615854, -0.005532163900601069], \"topics\": [1, 2, 3, 4, 5, 6, 7], \"cluster\": [1, 1, 1, 1, 1, 1, 1], \"Freq\": [75.51145481930746, 8.756332897850402, 5.503443952714443, 3.9106235731294854, 3.389983727239945, 1.4697753217366676, 1.4583857080215894]}, \"tinfo\": {\"Term\": [\"laptop\", \"pro\", \"googl\", \"jenna\", \"game\", \"justin\", \"window\", \"appl\", \"ipad\", \"keyboard\", \"youtub\", \"devic\", \"mac\", \"tutori\", \"click\", \"monitor\", \"macbook\", \"cake\", \"screen\", \"button\", \"god\", \"search\", \"perform\", \"usb\", \"download\", \"batteri\", \"hd\", \"inch\", \"instal\", \"icon\", \"phone\", \"camera\", \"galaxi\", \"smartphon\", \"len\", \"photo\", \"android\", \"megapixel\", \"pixel\", \"note\", \"iphon\", \"samsung\", \"oneplu\", \"car\", \"htc\", \"shoot\", \"moto\", \"shot\", \"sensor\", \"nexu\", \"tweet\", \"flagship\", \"twitter\", \"tesla\", \"app\", \"fold\", \"snapdragon\", \"selfi\", \"drone\", \"soni\", \"notif\", \"tv\", \"microphon\", \"display\", \"glass\", \"googl\", \"charg\", \"sort\", \"appl\", \"tech\", \"mode\", \"question\", \"headphon\", \"batteri\", \"youtub\", \"pro\", \"featur\", \"color\", \"stuff\", \"screen\", \"play\", \"game\", \"button\", \"ultrabook\", \"alienwar\", \"gtx\", \"msi\", \"dell\", \"zenbook\", \"maxq\", \"acer\", \"zephyru\", \"thermal\", \"skylak\", \"kabi\", \"gsync\", \"tn\", \"notebook\", \"xp\", \"gl\", \"blade\", \"trackpad\", \"helio\", \"nvme\", \"idl\", \"solder\", \"omen\", \"ryzen\", \"chassi\", \"amd\", \"triton\", \"magnesium\", \"inspiron\", \"rtx\", \"stealth\", \"gpu\", \"laptop\", \"cpu\", \"throttl\", \"keyboard\", \"razer\", \"intel\", \"thunderbolt\", \"graphic\", \"asu\", \"surfac\", \"panel\", \"game\", \"macbook\", \"core\", \"perform\", \"devic\", \"watt\", \"port\", \"model\", \"screen\", \"inch\", \"card\", \"batteri\", \"cupcak\", \"chocol\", \"cake\", \"ro\", \"blender\", \"cooki\", \"oven\", \"bb\", \"sugar\", \"edibl\", \"mixer\", \"teaspoon\", \"ingredi\", \"burger\", \"dough\", \"cinnamon\", \"turkey\", \"pizza\", \"rosanna\", \"pretzel\", \"decor\", \"pumpkin\", \"ketchup\", \"sprinkl\", \"steak\", \"squatch\", \"tablespoon\", \"libbi\", \"veda\", \"lobster\", \"tast\", \"pepper\", \"ice\", \"cook\", \"egg\", \"pokemon\", \"maddi\", \"butter\", \"cream\", \"delici\", \"bake\", \"candi\", \"christma\", \"cup\", \"drink\", \"jenna\", \"melt\", \"eat\", \"treat\", \"snack\", \"god\", \"birthday\", \"justin\", \"chees\", \"smell\", \"dog\", \"cute\", \"coffe\", \"gosh\", \"babi\", \"laugh\", \"pci\", \"dvi\", \"xeon\", \"itx\", \"subwoof\", \"pavilion\", \"dl\", \"dpi\", \"vga\", \"rpm\", \"nzxt\", \"chromebook\", \"imac\", \"mar\", \"woofer\", \"motherboard\", \"xdr\", \"hackintosh\", \"high\", \"workstat\", \"corsair\", \"skype\", \"atx\", \"crumb\", \"enclosur\", \"unscrew\", \"rat\", \"radeon\", \"cyborg\", \"mous\", \"ddr\", \"solar\", \"mac\", \"monitor\", \"disk\", \"pc\", \"macbook\", \"ipad\", \"usb\", \"earth\", \"port\", \"pro\", \"ssd\", \"laptop\", \"drive\", \"machin\", \"window\", \"core\", \"memori\", \"keyboard\", \"speaker\", \"air\", \"hard\", \"power\", \"appl\", \"graphic\", \"cabl\", \"tablet\", \"perform\", \"desktop\", \"intel\", \"chip\", \"inch\", \"firefox\", \"vista\", \"camstudio\", \"camtasia\", \"addon\", \"safari\", \"tutori\", \"jaybird\", \"freewar\", \"rightclick\", \"zune\", \"notepad\", \"toolbar\", \"uncheck\", \"url\", \"extract\", \"properti\", \"drag\", \"sidebar\", \"doc\", \"startup\", \"widescreen\", \"exit\", \"thunderbird\", \"prompt\", \"codec\", \"itun\", \"browser\", \"folder\", \"bookmark\", \"menu\", \"download\", \"disabl\", \"file\", \"window\", \"instal\", \"click\", \"request\", \"rocket\", \"select\", \"search\", \"dock\", \"program\", \"icon\", \"upload\", \"appli\", \"tab\", \"hd\", \"chrome\", \"googl\", \"youtub\", \"internet\", \"web\", \"yeti\", \"yahoo\", \"pg\", \"workhors\", \"va\", \"oooh\", \"xt\", \"darkest\", \"ep\", \"unaccept\", \"fiddl\", \"fiddli\", \"eyewat\", \"sku\", \"hassl\", \"atti\", \"exodu\", \"mmhm\", \"antutu\", \"claustrophob\", \"chunkier\", \"tackl\", \"chirp\", \"redempt\", \"wee\", \"gettin\", \"teraflop\", \"mislead\", \"lowend\", \"dissip\", \"talent\", \"freesync\", \"martyr\", \"tn\", \"dx\", \"letterbox\", \"rogu\", \"fidel\", \"displayport\", \"monitor\", \"gsync\", \"asa\", \"srgb\", \"martha\", \"somebodi\", \"sou\", \"visa\", \"hitman\", \"ip\", \"ttp\", \"battlefield\", \"millisecond\", \"sync\", \"refresh\", \"nvidia\", \"framer\", \"hdr\", \"input\", \"pierc\", \"strix\", \"vote\", \"rate\", \"hertz\", \"pound\", \"panel\", \"support\", \"gamer\", \"game\", \"asu\", \"pc\", \"workhors\", \"oooh\", \"xt\", \"ep\", \"unaccept\", \"fiddli\", \"darkest\", \"fiddl\", \"sku\", \"hassl\", \"eyewat\", \"exodu\", \"mmhm\", \"antutu\", \"redempt\", \"chirp\", \"tackl\", \"chunkier\", \"claustrophob\", \"wee\", \"teraflop\", \"gettin\", \"mislead\", \"atti\", \"lowend\", \"dissip\", \"spawn\", \"fur\", \"worthwhil\", \"ju\", \"amper\", \"atp\", \"dl\", \"sou\", \"raytrac\", \"trace\", \"rt\", \"ray\", \"blackberri\", \"ttp\", \"battlefield\", \"cyberpunk\", \"seuss\", \"rtx\", \"hitman\", \"isuzu\", \"seusss\", \"fp\", \"game\", \"uhd\", \"nvidia\", \"graphic\", \"pc\", \"seri\", \"laptop\", \"consol\", \"card\", \"pit\", \"ti\", \"pound\", \"perform\", \"pro\", \"ultra\", \"rate\", \"iphon\", \"phone\", \"set\", \"oneplu\", \"mous\", \"model\", \"devic\"], \"Freq\": [98.0, 80.0, 91.0, 49.0, 79.0, 50.0, 46.0, 83.0, 44.0, 55.0, 55.0, 69.0, 38.0, 27.0, 37.0, 37.0, 42.0, 29.0, 75.0, 53.0, 33.0, 30.0, 48.0, 39.0, 26.0, 80.0, 36.0, 54.0, 27.0, 28.0, 201.92746350252088, 120.44125402344359, 86.82602930535135, 63.36352073833737, 43.243382286767954, 53.84699572103752, 69.22121598339581, 42.457510611662194, 64.86084936379409, 61.28710086867928, 111.4212573678596, 72.18866620079056, 37.83525536595589, 55.335680881230225, 35.230715582969296, 40.35637419847675, 32.91628997932231, 39.09381436763645, 40.526463503024345, 60.560700978380375, 32.39259644106242, 34.397482741053715, 39.35307646858212, 27.396963029205704, 78.77767255450615, 35.234092045590586, 25.845480198762548, 23.141132459737058, 24.18195496740014, 27.625999162336488, 29.5407342591474, 48.8397539748795, 33.314733497122106, 74.35705281990423, 37.523916212390496, 83.48971449890531, 53.26026209088237, 43.42157091590918, 75.35292093679952, 43.274945933730834, 43.7266908206587, 41.906854205569054, 49.975037210070695, 64.7478425084174, 49.302737459499305, 62.69150003426362, 44.594539380604964, 46.328412234019254, 45.66072372682116, 54.45889236911622, 44.33515170873537, 47.52117555964049, 44.505307286826145, 16.783566312255857, 7.941297867270176, 16.94235183787697, 8.886454543674066, 17.41836865235132, 6.305081075297369, 5.695842619141263, 6.6877417017316665, 5.904189769819453, 17.446672477270475, 4.541515677223948, 3.82036555731946, 8.36139221939068, 5.063249948011351, 13.036860836390787, 24.956513367382577, 3.548685483896094, 11.134627486435878, 17.821150492836555, 3.741029421573735, 3.983537253590844, 4.852776855527756, 3.3762959126676524, 4.3882986144709895, 3.54727830133502, 8.64575068815089, 10.477658077332908, 2.4399722494194807, 3.178076310295143, 2.251112494145144, 9.172126760338376, 6.336907508128107, 17.780199417466214, 70.32616139449081, 18.585166087381737, 7.723856409979972, 33.999223015837835, 13.198921833233396, 16.420721113722404, 9.393486001556884, 16.257614134096542, 11.254272384845136, 15.570125972881417, 16.042733838052882, 28.287027713810204, 18.633548251574172, 13.221384980894168, 19.55768900630278, 23.54907355764223, 11.375519020231069, 14.151030695282513, 14.172322471659331, 16.74617627030538, 14.205209852997601, 11.450799040218687, 10.941964414800006, 10.47354311516796, 9.84402526464943, 25.938392907608275, 8.944245995810816, 5.430540969328667, 12.924367445065046, 6.119815578349018, 3.9735315798852007, 5.309886008244056, 3.739381486467979, 4.220300096109349, 3.3481069122503486, 3.69817738889828, 4.806934222990703, 2.8780111754061286, 2.9500340089428874, 2.789019974815337, 10.276863910783897, 2.5611363839807324, 3.21531400259334, 6.1538072237981725, 5.372127504930155, 3.081176019298821, 3.720065151144046, 2.3964506623561945, 3.79299936041138, 2.3619071070852606, 2.3476606647027114, 2.4575288521125556, 3.002261304017042, 12.8670379712147, 3.2120465235793696, 15.22010689457634, 14.319246685819621, 12.570883821817755, 5.759632771488862, 16.27658482710275, 9.00719676398598, 8.402801868892379, 5.128490460463113, 8.0529474785404, 6.831184884020906, 11.036486048999448, 10.780940870091232, 8.597800176113104, 23.406268269722098, 6.32306075549997, 10.901118407571374, 8.138519177052538, 6.396318585772889, 14.657718158539176, 9.060448562322122, 17.661171242033188, 7.407953273286593, 8.303372174892061, 11.149058365738757, 9.190577255059624, 8.785502393105794, 9.637816908833042, 8.699123802942651, 8.817432321072392, 2.4625575194089864, 1.8509253757284854, 1.2598057218324037, 1.4862498585506696, 3.4740039262744986, 1.383181249541424, 1.7238916581819066, 1.7338804619574057, 3.161689423679405, 1.7704488121507864, 0.9147967459421784, 4.298070121777136, 6.3547455987979315, 3.1253557280018005, 1.9997033837854878, 3.4062312221860167, 1.1657134157819316, 1.7010394876520396, 2.5697276147775114, 1.8453505697151085, 1.6220913396694017, 4.614105858417645, 1.1060222023782442, 1.2759513615287714, 0.9626370934082237, 1.3085173980566074, 2.2166030971045516, 1.3333553708127486, 1.0188680107557482, 13.399941246067412, 1.5860137949566713, 2.3893440459897346, 12.69023615976242, 12.108422300616319, 3.1499205694047054, 7.3405908186431335, 11.184476738195299, 9.915245455682232, 8.828752777308887, 3.398596911835175, 7.166526663962675, 12.102526131721058, 3.6396508663151423, 10.922564724963491, 6.726039493303705, 4.6011393448360955, 6.73523708323848, 4.871573706601622, 3.522607939610786, 6.4531003436122685, 5.92613675172587, 5.106702589397628, 4.718076776361689, 5.352056556266773, 6.576120005735392, 4.424764050914034, 4.415516603668747, 4.769964146494552, 4.716720513001835, 4.051459967454019, 4.064122279184477, 4.189164052662181, 4.407947324592485, 13.515937280028483, 14.85217365397127, 6.22220130540368, 5.580393188582333, 8.81901099182261, 14.643404337215479, 21.579524046935838, 2.5540494021265845, 2.0896892540270806, 2.973210178866696, 5.049485863358835, 3.092549121831709, 2.3705516330870515, 4.187688566636217, 3.176542285739204, 3.515647733861693, 3.3469833598859235, 8.02467787876383, 2.5802003741474495, 3.426542446405737, 2.6062392258331832, 3.118520951864599, 4.39802443623091, 3.0287307281714013, 2.4915089610570686, 3.1765043903186703, 4.775506983868284, 11.554581807193067, 5.647868960102038, 1.1111183933761664, 10.495134211195575, 12.407798766425197, 5.604305512124094, 9.664229198654587, 16.465953582417082, 10.65759782954211, 12.108245802224708, 5.035329574899971, 4.268983012868216, 6.480663106334402, 8.52377560008056, 5.986657777892634, 5.613848268022007, 7.141192187269752, 6.612256676655156, 5.015082145664654, 5.629878344092857, 7.276357949050028, 5.603064671990602, 6.4216320630730275, 5.502414435054344, 5.189801644108106, 5.096228768438046, 2.5176078630371106, 1.2868682986021378, 0.32135863380203417, 0.11313687727561555, 0.25226689432627863, 0.11298496679194865, 0.11316308395570289, 0.11512615778916237, 0.11326767305071467, 0.11298305730262882, 0.11399722527017973, 0.11301194575438313, 0.11454535903102206, 0.11303990067802551, 0.11304596861075299, 0.11641109134226593, 0.11360734998416537, 0.1129879710551452, 0.11327616815653313, 0.1136069171665862, 0.11325520620711094, 0.11298284513714883, 0.1129832015751552, 0.1130400534371711, 0.11326931096822013, 0.11298289605686403, 0.11298859906496594, 0.11318761877180797, 0.11312974002886897, 0.11298377866526076, 0.5084161793108848, 0.1475566443388114, 0.3353213628522986, 0.2985401515638104, 0.14521779998044673, 0.12635580507277933, 0.12534595679440083, 0.11418840334088165, 0.16283709075214617, 0.30464036739072103, 0.20379181768397353, 0.13981408099122006, 0.14209143130686683, 0.12577682245114766, 0.134535259576749, 0.11467578988149561, 0.12013036917958352, 0.11705615078098308, 0.1726156110188803, 0.11745264562997289, 0.13472427355955507, 0.14413977869004052, 0.15005333981428245, 0.16487786807099414, 0.14899757043941672, 0.13264250586997464, 0.14889851462012285, 0.13653666746913157, 0.1256278228778661, 0.12271053055487935, 0.13317204544815137, 0.14124324463761517, 0.14185536750721997, 0.1384605416085096, 0.13894268341845842, 0.1383643203200283, 0.13470116449547548, 0.14075176754654717, 0.13524946798870177, 0.13486773985711872, 0.11336670542400777, 0.11335313942738899, 0.11432141980430281, 0.11362781085986055, 0.11334884479158788, 0.11349722024808886, 0.11334756482170207, 0.11349751497799677, 0.11338691547483651, 0.11334933320114958, 0.11380063205700978, 0.11420372994164346, 0.11335271838466339, 0.11363801693552907, 0.11372788429488084, 0.1134878225744535, 0.11344677090870763, 0.11338158507393044, 0.1133525836509912, 0.11334968687703909, 0.11434114986642437, 0.11334866795364312, 0.11340816971162473, 0.1134776922864756, 0.11334990581925639, 0.11335557305434295, 0.11338264610159894, 0.11334734587948475, 0.11483478035791628, 0.11334972898131164, 0.11440385154912053, 0.11595438349041028, 0.14067799549585647, 0.11432587443633965, 0.12279128368953635, 0.13355122422186472, 0.13089324886199627, 0.13225307371115333, 0.14021431798386363, 0.11537859072144503, 0.12446934947240994, 0.11907577531578166, 0.11427868396765455, 0.1264082343820829, 0.11436022310189399, 0.11399252648962865, 0.11441085770007449, 0.1242595354613896, 0.12914511314872854, 0.11671549400462052, 0.1218955658159522, 0.12404357422657551, 0.121964347355606, 0.12191889158295037, 0.12494181835651326, 0.12060426988081357, 0.12259808402446813, 0.11590785826923161, 0.1200589774468907, 0.1209036059961507, 0.12215240187856741, 0.12272848095658605, 0.12139671439466287, 0.12045320817172327, 0.12174841980420997, 0.12234374053478847, 0.11992655950968992, 0.11999690732828294, 0.11950375682549823, 0.11953662342065846, 0.11953110776095312], \"Total\": [98.0, 80.0, 91.0, 49.0, 79.0, 50.0, 46.0, 83.0, 44.0, 55.0, 55.0, 69.0, 38.0, 27.0, 37.0, 37.0, 42.0, 29.0, 75.0, 53.0, 33.0, 30.0, 48.0, 39.0, 26.0, 80.0, 36.0, 54.0, 27.0, 28.0, 203.4384477781388, 121.66454965841147, 87.92143378178176, 64.29142698706237, 44.0197947938846, 54.847623494562406, 70.5216306503392, 43.275370929333704, 66.13137902819363, 62.49717293042103, 113.6404362288209, 73.64659684838614, 38.61575961239333, 56.5462269003162, 36.00253027080553, 41.24201152894749, 33.64491841384891, 39.96969628407943, 41.455912102758084, 61.998417375721154, 33.183843637239555, 35.24476244403818, 40.354380620215835, 28.11058658513997, 80.89574448656485, 36.281967685866796, 26.621601685960293, 23.887030762820572, 24.962894972627133, 28.52142321412451, 30.51903010428379, 50.74462200819593, 34.57442136931466, 79.16517043770216, 39.16233776622176, 91.67269434470583, 56.85015829070888, 45.76920805014379, 83.27856871756212, 45.890173870772536, 46.65335437566997, 44.43810252801948, 55.21089650377741, 80.14873875562128, 55.72549597520931, 80.98383917857667, 49.32110313093911, 52.869413607819126, 52.265366822042346, 75.12393040033115, 50.99621032605065, 79.52091725231169, 53.602685547801826, 17.63675717126821, 8.652664151710537, 18.497885703367906, 9.744715683316334, 19.349430226645612, 7.035451681941659, 6.367189755708424, 7.48375301608929, 6.742502608790092, 20.177822448046616, 5.288138113906687, 4.484525002196642, 9.932189903399133, 6.0192930805143225, 15.644838750053644, 30.076842177940666, 4.297075974206002, 13.486044951018581, 21.775520659666995, 4.589214581742716, 4.892409515224541, 5.988857752726254, 4.174983519357603, 5.4454782747552315, 4.413762948591787, 10.759443885794862, 13.2076815929701, 3.1256117589413894, 4.108032400013678, 2.9200656397757006, 11.899786577650211, 8.258322387247, 23.746257394198675, 98.65495351520586, 25.770865539306996, 10.286719206509439, 55.13214750745988, 18.939741038667826, 24.29084212591888, 13.86049513918028, 29.305840562644814, 18.643563128994682, 29.887394113005406, 31.238230743388954, 79.52091725231169, 42.88393973106167, 24.66685267315656, 48.139771390051266, 69.2882592153961, 19.871465265799973, 34.73603633888299, 36.1623340626978, 75.12393040033115, 54.32542075038566, 40.113112542195495, 80.14873875562128, 11.186744026593276, 10.833863358778151, 29.124695454875496, 10.106949125064423, 6.218292889669132, 14.838817676353846, 7.1213726994387265, 4.6646658770777485, 6.281721193641994, 4.448193923850884, 5.034813439385585, 4.038273652734948, 4.48701242819574, 5.907528633268223, 3.568505782318766, 3.6718807095739767, 3.4840938619362016, 12.865142106564148, 3.2535336280605307, 4.089981946641043, 7.83074022336085, 6.8471803637159105, 3.9276413805424863, 4.758644301384964, 3.0920468063791398, 4.895879953018028, 3.052062542086506, 3.042253736403792, 3.1851354319221685, 3.906815299755587, 16.83010312569918, 4.192159200150976, 20.869756538013924, 19.94636516184293, 17.49326689588086, 7.79118618913758, 23.604059847926933, 12.876216796336761, 12.153852814922345, 7.016987381553948, 11.898650473285077, 9.827750349064404, 17.95613972383227, 17.560618704290174, 13.600334292819365, 49.82888969078552, 9.178572220378236, 19.292139638517906, 13.26213089980818, 9.446400211198272, 33.734904713909856, 16.55468370840965, 50.77601935338452, 12.375627344644736, 15.503427274013761, 28.037675899375138, 20.388503989048843, 18.55686365008673, 26.99968544671545, 20.58349442287885, 30.823600961672007, 3.367675708201687, 2.767337372059996, 2.027097262141511, 2.4582606703637087, 5.834746898542056, 2.3852270994409066, 2.9860913338350925, 3.0051618266593496, 5.487524461160818, 3.2330596889639196, 1.6758208248515267, 7.879061743410066, 11.800206048171765, 5.859409129529169, 3.797762827593725, 6.520079423305535, 2.2779562614689786, 3.3589724169033417, 5.2654965237093565, 3.808130064013491, 3.3893203144510187, 9.720498206281622, 2.3706601903521403, 2.7548144063838125, 2.134072868446486, 2.937344173095278, 5.007967416064356, 3.0158672689796813, 2.3131516484888612, 30.424269286047213, 3.648030434178864, 5.5994395739026075, 38.895138577245426, 37.854396762418624, 8.058950253015139, 24.06032944351453, 42.88393973106167, 44.94499896850794, 39.62072793241441, 10.594239020010543, 34.73603633888299, 80.98383917857667, 12.947855476855583, 98.65495351520586, 40.64922023237179, 20.32405497761721, 46.679306200610945, 24.66685267315656, 12.93817750030221, 55.13214750745988, 46.736041379690555, 34.60239860034158, 29.15076111591417, 44.00692371759102, 83.27856871756212, 29.305840562644814, 32.05964343416279, 45.10390826453645, 48.139771390051266, 22.490528477299137, 24.29084212591888, 31.62722980448134, 54.32542075038566, 14.291191754777003, 16.374054762330328, 6.985313747637122, 6.573061880421911, 10.950298980127155, 18.35653597149443, 27.799038169415617, 3.4017728346868705, 2.8682463472004036, 4.1059705541346645, 7.022452963529106, 4.38517384593026, 3.511261902931031, 6.3948503376672035, 4.903321162210399, 5.752087473733513, 5.516342806803602, 13.844211429578037, 4.468876329681033, 6.025858184871246, 4.6061679374217945, 5.515130646995374, 7.809552447780705, 5.444349625348586, 4.4911108912583835, 5.803051618118919, 8.753182457921021, 21.512640495689038, 10.592480565495356, 2.092255037769595, 20.599961613262753, 26.219564452140844, 11.448789019953445, 22.529339909991283, 46.679306200610945, 27.041655191899157, 37.21360774367719, 11.039639758648697, 8.648704228360414, 17.38171178163238, 30.076863687509917, 15.950192112942524, 15.136248117610247, 28.276853793298304, 24.91873799862288, 13.918200314769454, 18.61045801823918, 36.72774485683573, 21.508389400052188, 91.67269434470583, 55.72549597520931, 25.088473254578187, 20.545396208707377, 3.805722702400564, 3.5152850658900743, 3.441269805022985, 1.257117224976847, 2.855243296180758, 1.3101197277313588, 1.3754775579594702, 1.4038919696015906, 1.3879162163658176, 1.387306838275524, 1.4070828501835937, 1.4053460634883435, 1.4248017057097957, 1.4095169742977316, 1.413036935728466, 1.4659430570194183, 1.4328419915163098, 1.4260833643396413, 1.4360279168775127, 1.4439053434970657, 1.4427253025899682, 1.4397470900838008, 1.4399130603349564, 1.4427589737999023, 1.4476160039543724, 1.449673816564069, 1.460435363938171, 1.4634160004397505, 1.4653054821762885, 1.4677522724159806, 6.6675447231026554, 1.972022489302397, 5.425016987767278, 6.0192930805143225, 2.5929698042286606, 1.8876707634618384, 1.939291441681286, 1.487836245372126, 4.593712782997394, 37.854396762418624, 9.932189903399133, 3.1217216021975602, 4.430450156123407, 2.471428761629279, 3.6842490075321113, 1.5220348864044868, 1.9736176072387792, 1.7072078532470403, 19.311588265798346, 1.7494508499676487, 4.187195792815346, 7.198271249520878, 11.722549986438581, 27.448126144696573, 14.605137946536459, 5.226325909726546, 21.412143800607666, 10.084313566862857, 3.8220873224293817, 2.9447962948450277, 10.88647352933137, 33.07536341997715, 37.01360693659207, 23.61295021778292, 31.238230743388954, 29.88508575340211, 13.789351918162849, 79.52091725231169, 18.643563128994682, 24.06032944351453, 1.257117224976847, 1.3101197277313588, 1.3754775579594702, 1.3879162163658176, 1.387306838275524, 1.4053460634883435, 1.4038919696015906, 1.4070828501835937, 1.4095169742977316, 1.413036935728466, 1.4248017057097957, 1.4328419915163098, 1.4260833643396413, 1.4360279168775127, 1.4427589737999023, 1.4399130603349564, 1.4397470900838008, 1.4427253025899682, 1.4439053434970657, 1.4476160039543724, 1.460435363938171, 1.449673816564069, 1.4634160004397505, 1.4659430570194183, 1.4653054821762885, 1.4677522724159806, 1.4681337603527729, 1.4751488826257713, 1.4993787164846912, 1.4846394147679853, 1.501114671934747, 1.5438680275745555, 2.9860913338350925, 1.5220348864044868, 2.2232071227672314, 6.021759545775716, 5.620543359981569, 6.338949257422652, 12.609323992628116, 1.7494508499676487, 4.187195792815346, 2.612526014871164, 1.6170228056400153, 11.899786577650211, 1.7072078532470403, 1.5807746924715027, 1.7362389706479884, 15.395952079669037, 79.52091725231169, 3.238570951121803, 14.605137946536459, 29.305840562644814, 24.06032944351453, 26.806702435378817, 98.65495351520586, 17.545751147314714, 40.113112542195495, 2.7818824785598903, 16.35108591031155, 23.61295021778292, 48.139771390051266, 80.98383917857667, 37.76842660567136, 33.07536341997715, 113.6404362288209, 203.4384477781388, 33.52694539221405, 38.61575961239333, 30.424269286047213, 36.1623340626978, 69.2882592153961], \"Category\": [\"Default\", \"Default\", \"Default\", \"Default\", \"Default\", \"Default\", \"Default\", \"Default\", \"Default\", \"Default\", \"Default\", \"Default\", \"Default\", \"Default\", \"Default\", \"Default\", \"Default\", \"Default\", \"Default\", \"Default\", \"Default\", \"Default\", \"Default\", \"Default\", \"Default\", \"Default\", \"Default\", \"Default\", \"Default\", \"Default\", \"Topic1\", \"Topic1\", \"Topic1\", \"Topic1\", \"Topic1\", \"Topic1\", \"Topic1\", \"Topic1\", \"Topic1\", \"Topic1\", \"Topic1\", \"Topic1\", \"Topic1\", \"Topic1\", \"Topic1\", \"Topic1\", \"Topic1\", \"Topic1\", \"Topic1\", \"Topic1\", \"Topic1\", \"Topic1\", \"Topic1\", \"Topic1\", \"Topic1\", \"Topic1\", \"Topic1\", \"Topic1\", \"Topic1\", \"Topic1\", \"Topic1\", \"Topic1\", \"Topic1\", \"Topic1\", \"Topic1\", \"Topic1\", \"Topic1\", \"Topic1\", \"Topic1\", \"Topic1\", \"Topic1\", \"Topic1\", \"Topic1\", \"Topic1\", \"Topic1\", \"Topic1\", \"Topic1\", \"Topic1\", \"Topic1\", \"Topic1\", \"Topic1\", \"Topic1\", \"Topic1\", \"Topic2\", \"Topic2\", \"Topic2\", \"Topic2\", \"Topic2\", \"Topic2\", \"Topic2\", \"Topic2\", \"Topic2\", \"Topic2\", \"Topic2\", \"Topic2\", \"Topic2\", \"Topic2\", \"Topic2\", \"Topic2\", \"Topic2\", \"Topic2\", \"Topic2\", \"Topic2\", \"Topic2\", \"Topic2\", \"Topic2\", \"Topic2\", \"Topic2\", \"Topic2\", \"Topic2\", \"Topic2\", \"Topic2\", \"Topic2\", \"Topic2\", \"Topic2\", \"Topic2\", \"Topic2\", \"Topic2\", \"Topic2\", \"Topic2\", \"Topic2\", \"Topic2\", \"Topic2\", \"Topic2\", \"Topic2\", \"Topic2\", \"Topic2\", \"Topic2\", \"Topic2\", \"Topic2\", \"Topic2\", \"Topic2\", \"Topic2\", \"Topic2\", \"Topic2\", \"Topic2\", \"Topic2\", \"Topic2\", \"Topic2\", \"Topic3\", \"Topic3\", \"Topic3\", \"Topic3\", \"Topic3\", \"Topic3\", \"Topic3\", \"Topic3\", \"Topic3\", \"Topic3\", \"Topic3\", \"Topic3\", \"Topic3\", \"Topic3\", \"Topic3\", \"Topic3\", \"Topic3\", \"Topic3\", \"Topic3\", \"Topic3\", \"Topic3\", \"Topic3\", \"Topic3\", \"Topic3\", \"Topic3\", \"Topic3\", \"Topic3\", \"Topic3\", \"Topic3\", \"Topic3\", \"Topic3\", \"Topic3\", \"Topic3\", \"Topic3\", \"Topic3\", \"Topic3\", \"Topic3\", \"Topic3\", \"Topic3\", \"Topic3\", \"Topic3\", \"Topic3\", \"Topic3\", \"Topic3\", \"Topic3\", \"Topic3\", \"Topic3\", \"Topic3\", \"Topic3\", \"Topic3\", \"Topic3\", \"Topic3\", \"Topic3\", \"Topic3\", \"Topic3\", \"Topic3\", \"Topic3\", \"Topic3\", \"Topic3\", \"Topic3\", \"Topic3\", \"Topic4\", \"Topic4\", \"Topic4\", \"Topic4\", \"Topic4\", \"Topic4\", \"Topic4\", \"Topic4\", \"Topic4\", \"Topic4\", \"Topic4\", \"Topic4\", \"Topic4\", \"Topic4\", \"Topic4\", \"Topic4\", \"Topic4\", \"Topic4\", \"Topic4\", \"Topic4\", \"Topic4\", \"Topic4\", \"Topic4\", \"Topic4\", \"Topic4\", \"Topic4\", \"Topic4\", \"Topic4\", \"Topic4\", \"Topic4\", \"Topic4\", \"Topic4\", \"Topic4\", \"Topic4\", \"Topic4\", \"Topic4\", \"Topic4\", \"Topic4\", \"Topic4\", \"Topic4\", \"Topic4\", \"Topic4\", \"Topic4\", \"Topic4\", \"Topic4\", \"Topic4\", \"Topic4\", \"Topic4\", \"Topic4\", \"Topic4\", \"Topic4\", \"Topic4\", \"Topic4\", \"Topic4\", \"Topic4\", \"Topic4\", \"Topic4\", \"Topic4\", \"Topic4\", \"Topic4\", \"Topic4\", \"Topic4\", \"Topic4\", \"Topic5\", \"Topic5\", \"Topic5\", \"Topic5\", \"Topic5\", \"Topic5\", \"Topic5\", \"Topic5\", \"Topic5\", \"Topic5\", \"Topic5\", \"Topic5\", \"Topic5\", \"Topic5\", \"Topic5\", \"Topic5\", \"Topic5\", \"Topic5\", \"Topic5\", \"Topic5\", \"Topic5\", \"Topic5\", \"Topic5\", \"Topic5\", \"Topic5\", \"Topic5\", \"Topic5\", \"Topic5\", \"Topic5\", \"Topic5\", \"Topic5\", \"Topic5\", \"Topic5\", \"Topic5\", \"Topic5\", \"Topic5\", \"Topic5\", \"Topic5\", \"Topic5\", \"Topic5\", \"Topic5\", \"Topic5\", \"Topic5\", \"Topic5\", \"Topic5\", \"Topic5\", \"Topic5\", \"Topic5\", \"Topic5\", \"Topic5\", \"Topic5\", \"Topic5\", \"Topic5\", \"Topic6\", \"Topic6\", \"Topic6\", \"Topic6\", \"Topic6\", \"Topic6\", \"Topic6\", \"Topic6\", \"Topic6\", \"Topic6\", \"Topic6\", \"Topic6\", \"Topic6\", \"Topic6\", \"Topic6\", \"Topic6\", \"Topic6\", \"Topic6\", \"Topic6\", \"Topic6\", \"Topic6\", \"Topic6\", \"Topic6\", \"Topic6\", \"Topic6\", \"Topic6\", \"Topic6\", \"Topic6\", \"Topic6\", \"Topic6\", \"Topic6\", \"Topic6\", \"Topic6\", \"Topic6\", \"Topic6\", \"Topic6\", \"Topic6\", \"Topic6\", \"Topic6\", \"Topic6\", \"Topic6\", \"Topic6\", \"Topic6\", \"Topic6\", \"Topic6\", \"Topic6\", \"Topic6\", \"Topic6\", \"Topic6\", \"Topic6\", \"Topic6\", \"Topic6\", \"Topic6\", \"Topic6\", \"Topic6\", \"Topic6\", \"Topic6\", \"Topic6\", \"Topic6\", \"Topic6\", \"Topic6\", \"Topic6\", \"Topic6\", \"Topic6\", \"Topic6\", \"Topic6\", \"Topic6\", \"Topic6\", \"Topic6\", \"Topic6\", \"Topic7\", \"Topic7\", \"Topic7\", \"Topic7\", \"Topic7\", \"Topic7\", \"Topic7\", \"Topic7\", \"Topic7\", \"Topic7\", \"Topic7\", \"Topic7\", \"Topic7\", \"Topic7\", \"Topic7\", \"Topic7\", \"Topic7\", \"Topic7\", \"Topic7\", \"Topic7\", \"Topic7\", \"Topic7\", \"Topic7\", \"Topic7\", \"Topic7\", \"Topic7\", \"Topic7\", \"Topic7\", \"Topic7\", \"Topic7\", \"Topic7\", \"Topic7\", \"Topic7\", \"Topic7\", \"Topic7\", \"Topic7\", \"Topic7\", \"Topic7\", \"Topic7\", \"Topic7\", \"Topic7\", \"Topic7\", \"Topic7\", \"Topic7\", \"Topic7\", \"Topic7\", \"Topic7\", \"Topic7\", \"Topic7\", \"Topic7\", \"Topic7\", \"Topic7\", \"Topic7\", \"Topic7\", \"Topic7\", \"Topic7\", \"Topic7\", \"Topic7\", \"Topic7\", \"Topic7\", \"Topic7\", \"Topic7\", \"Topic7\", \"Topic7\", \"Topic7\", \"Topic7\", \"Topic7\", \"Topic7\", \"Topic7\", \"Topic7\", \"Topic7\"], \"logprob\": [30.0, 29.0, 28.0, 27.0, 26.0, 25.0, 24.0, 23.0, 22.0, 21.0, 20.0, 19.0, 18.0, 17.0, 16.0, 15.0, 14.0, 13.0, 12.0, 11.0, 10.0, 9.0, 8.0, 7.0, 6.0, 5.0, 4.0, 3.0, 2.0, 1.0, -4.9998, -5.5165, -5.8438, -6.1588, -6.5409, -6.3216, -6.0704, -6.5592, -6.1355, -6.1921, -5.5944, -6.0284, -6.6745, -6.2943, -6.7458, -6.6099, -6.8137, -6.6417, -6.6057, -6.2041, -6.8298, -6.7697, -6.6351, -6.9973, -5.9411, -6.7457, -7.0556, -7.1661, -7.1221, -6.9889, -6.9219, -6.4192, -6.8017, -5.9988, -6.6827, -5.883, -6.3325, -6.5367, -5.9855, -6.5401, -6.5297, -6.5722, -6.3962, -6.1372, -6.4097, -6.1695, -6.5101, -6.4719, -6.4865, -6.3103, -6.5159, -6.4465, -6.5121, -5.3328, -6.0811, -5.3234, -5.9687, -5.2957, -6.3118, -6.4135, -6.2529, -6.3775, -5.294, -6.6399, -6.8128, -6.0296, -6.5312, -5.5854, -4.9361, -6.8866, -5.7431, -5.2728, -6.8338, -6.771, -6.5736, -6.9364, -6.6742, -6.887, -5.9961, -5.8039, -7.2612, -6.9969, -7.3418, -5.937, -6.3068, -5.2751, -3.9, -5.2308, -6.1089, -4.6269, -5.5731, -5.3546, -5.9132, -5.3646, -5.7324, -5.4078, -5.3779, -4.8108, -5.2282, -5.5714, -5.1798, -4.9941, -5.7217, -5.5034, -5.5019, -5.335, -5.4996, -5.7151, -5.7606, -5.3399, -5.4019, -4.4331, -5.4978, -5.9967, -5.1297, -5.8773, -6.3091, -6.0192, -6.3699, -6.2489, -6.4804, -6.3809, -6.1187, -6.6317, -6.607, -6.6631, -5.3589, -6.7483, -6.5209, -5.8717, -6.0076, -6.5635, -6.375, -6.8148, -6.3556, -6.8293, -6.8354, -6.7896, -6.5894, -5.1341, -6.5219, -4.9662, -5.0272, -5.1574, -5.9379, -4.8991, -5.4908, -5.5602, -6.054, -5.6027, -5.7673, -5.2876, -5.311, -5.5373, -4.5358, -5.8446, -5.2999, -5.5922, -5.8331, -5.0038, -5.4849, -4.8174, -5.6862, -5.5721, -5.2774, -5.4706, -5.5157, -5.4231, -5.5256, -5.5121, -6.4459, -6.7314, -7.1162, -6.9509, -6.1018, -7.0227, -6.8025, -6.7967, -6.196, -6.7759, -7.4362, -5.8889, -5.4979, -6.2076, -6.6541, -6.1215, -7.1938, -6.8159, -6.4033, -6.7344, -6.8634, -5.818, -7.2463, -7.1034, -7.3852, -7.0782, -6.5511, -7.0594, -7.3284, -4.7519, -6.8859, -6.4761, -4.8063, -4.8532, -6.1997, -5.3537, -4.9326, -5.053, -5.1691, -6.1237, -5.3777, -4.8537, -6.0552, -4.9563, -5.4411, -5.8208, -5.4398, -5.7637, -6.0879, -5.4825, -5.5677, -5.7166, -5.7957, -5.6696, -5.4637, -5.8599, -5.862, -5.7848, -5.796, -5.948, -5.9449, -5.9146, -5.8637, -4.6004, -4.5061, -5.3761, -5.485, -5.0273, -4.5202, -4.1325, -6.2666, -6.4672, -6.1146, -5.585, -6.0752, -6.3411, -5.7721, -6.0484, -5.947, -5.9962, -5.1217, -6.2564, -5.9727, -6.2463, -6.0669, -5.7231, -6.0961, -6.2914, -6.0485, -5.6407, -4.7572, -5.473, -7.0989, -4.8533, -4.6859, -5.4807, -4.9358, -4.4029, -4.838, -4.7104, -5.5878, -5.7529, -5.3354, -5.0614, -5.4147, -5.479, -5.2384, -5.3153, -5.5918, -5.4762, -5.2196, -5.4809, -5.3446, -5.4991, -5.5575, -5.5757, -5.4452, -6.1163, -7.5037, -8.5477, -7.7458, -8.549, -8.5474, -8.5303, -8.5465, -8.549, -8.5401, -8.5488, -8.5353, -8.5485, -8.5485, -8.5192, -8.5435, -8.549, -8.5464, -8.5435, -8.5466, -8.549, -8.549, -8.5485, -8.5465, -8.549, -8.549, -8.5472, -8.5477, -8.549, -7.045, -8.2821, -7.4612, -7.5774, -8.298, -8.4372, -8.4452, -8.5384, -8.1835, -7.5571, -7.9592, -8.336, -8.3198, -8.4418, -8.3745, -8.5342, -8.4877, -8.5136, -8.1252, -8.5102, -8.373, -8.3055, -8.2653, -8.1711, -8.2723, -8.3886, -8.273, -8.3597, -8.443, -8.4665, -8.3846, -8.3258, -8.3215, -8.3457, -8.3422, -8.3464, -8.3732, -8.3293, -8.3692, -8.372, -8.5379, -8.538, -8.5295, -8.5356, -8.538, -8.5367, -8.538, -8.5367, -8.5377, -8.538, -8.5341, -8.5305, -8.538, -8.5355, -8.5347, -8.5368, -8.5372, -8.5377, -8.538, -8.538, -8.5293, -8.538, -8.5375, -8.5369, -8.538, -8.538, -8.5377, -8.538, -8.525, -8.538, -8.5288, -8.5153, -8.322, -8.5294, -8.458, -8.374, -8.3941, -8.3838, -8.3253, -8.5203, -8.4444, -8.4887, -8.5299, -8.429, -8.5291, -8.5324, -8.5287, -8.4461, -8.4076, -8.5088, -8.4653, -8.4479, -8.4648, -8.4651, -8.4407, -8.476, -8.4596, -8.5157, -8.4805, -8.4735, -8.4632, -8.4585, -8.4694, -8.4772, -8.4665, -8.4617, -8.4816, -8.481, -8.4852, -8.4849, -8.4849], \"loglift\": [30.0, 29.0, 28.0, 27.0, 26.0, 25.0, 24.0, 23.0, 22.0, 21.0, 20.0, 19.0, 18.0, 17.0, 16.0, 15.0, 14.0, 13.0, 12.0, 11.0, 10.0, 9.0, 8.0, 7.0, 6.0, 5.0, 4.0, 3.0, 2.0, 1.0, 0.2734, 0.2708, 0.2683, 0.2663, 0.2631, 0.2625, 0.2623, 0.2618, 0.2615, 0.2613, 0.2612, 0.2609, 0.2605, 0.2592, 0.2592, 0.2592, 0.259, 0.2587, 0.2582, 0.2574, 0.2568, 0.2566, 0.2558, 0.2552, 0.2544, 0.2516, 0.2513, 0.2492, 0.2491, 0.249, 0.2483, 0.2426, 0.2438, 0.2182, 0.2381, 0.1874, 0.2157, 0.2282, 0.1809, 0.2222, 0.2161, 0.2222, 0.1812, 0.0675, 0.1584, 0.0249, 0.1801, 0.1488, 0.1458, -0.0408, 0.1409, -0.234, 0.0949, 2.3858, 2.3496, 2.3476, 2.3432, 2.3303, 2.3258, 2.324, 2.3229, 2.3026, 2.29, 2.2832, 2.2751, 2.2632, 2.2624, 2.253, 2.2488, 2.244, 2.2438, 2.235, 2.231, 2.2299, 2.225, 2.2231, 2.2195, 2.2168, 2.2167, 2.2038, 2.1877, 2.1787, 2.1752, 2.175, 2.1706, 2.1461, 2.0969, 2.1085, 2.1489, 1.952, 2.0743, 2.0438, 2.0464, 1.8462, 1.9306, 1.7833, 1.769, 1.4018, 1.6019, 1.8118, 1.5347, 1.3562, 1.8776, 1.5374, 1.4987, 0.9344, 1.094, 1.1817, 0.4441, 2.8339, 2.804, 2.7839, 2.7776, 2.7643, 2.7617, 2.7482, 2.7394, 2.7317, 2.7262, 2.7233, 2.7124, 2.7064, 2.6936, 2.6847, 2.6809, 2.6773, 2.6752, 2.6605, 2.6592, 2.6588, 2.6572, 2.6571, 2.6536, 2.645, 2.6446, 2.6434, 2.6406, 2.6405, 2.6364, 2.6313, 2.6335, 2.5841, 2.5684, 2.5694, 2.5977, 2.5281, 2.5424, 2.5307, 2.5863, 2.5094, 2.5361, 2.4131, 2.4119, 2.4412, 2.1442, 2.5271, 2.329, 2.4115, 2.5099, 2.0662, 2.297, 1.8437, 2.3866, 2.2754, 1.9776, 2.103, 2.1521, 1.8697, 2.0385, 1.6482, 2.9285, 2.8393, 2.7658, 2.7383, 2.723, 2.6966, 2.6921, 2.6915, 2.6901, 2.6393, 2.6361, 2.6354, 2.6226, 2.613, 2.6001, 2.5922, 2.5715, 2.5611, 2.5241, 2.517, 2.5046, 2.4964, 2.4791, 2.4718, 2.4454, 2.4329, 2.4264, 2.4253, 2.4216, 2.4215, 2.4085, 2.3898, 2.1214, 2.1016, 2.3021, 2.0543, 1.8975, 1.7301, 1.7401, 2.1045, 1.6631, 1.3406, 1.9724, 1.0407, 1.4425, 1.756, 1.3055, 1.6194, 1.9405, 1.0963, 1.1763, 1.3281, 1.4204, 1.1346, 0.7027, 1.3509, 1.259, 0.9948, 0.9185, 1.5275, 1.4536, 1.22, 0.7299, 3.3286, 3.2868, 3.2687, 3.2206, 3.1679, 3.1583, 3.1311, 3.0977, 3.0677, 3.0615, 3.0545, 3.0351, 2.9915, 2.961, 2.9502, 2.892, 2.8847, 2.839, 2.8351, 2.8198, 2.8149, 2.8142, 2.8102, 2.7979, 2.7951, 2.7817, 2.7784, 2.7628, 2.7555, 2.7515, 2.71, 2.6362, 2.67, 2.538, 2.3423, 2.4532, 2.2616, 2.5993, 2.6783, 2.3977, 2.1234, 2.4044, 2.3925, 2.0082, 2.0577, 2.3636, 2.1887, 1.7654, 2.0392, 0.7258, 1.0691, 1.8086, 1.9902, 3.8069, 3.2152, 1.849, 1.8121, 1.7936, 1.7694, 1.7223, 1.7191, 1.7143, 1.7122, 1.707, 1.6995, 1.6992, 1.6968, 1.6944, 1.6869, 1.6854, 1.6847, 1.6803, 1.6777, 1.6754, 1.6751, 1.675, 1.6735, 1.6722, 1.6682, 1.6609, 1.6606, 1.6588, 1.6558, 1.6464, 1.6275, 1.4364, 1.2162, 1.3377, 1.5161, 1.4811, 1.6528, 0.8804, -0.6023, 0.3336, 1.1142, 0.7803, 1.242, 0.9101, 1.6344, 1.421, 1.5401, -0.4973, 1.519, 0.7835, 0.3092, -0.1382, -0.8948, -0.3651, 0.5463, -0.7484, -0.0821, 0.8048, 1.0421, -0.1836, -1.236, -1.3442, -0.9189, -1.1953, -1.1552, -0.4085, -2.1167, -0.7061, -0.964, 1.8219, 1.7805, 1.7403, 1.7252, 1.7232, 1.7116, 1.7113, 1.7103, 1.7076, 1.7048, 1.7005, 1.6984, 1.6957, 1.6912, 1.6873, 1.6872, 1.687, 1.6843, 1.6832, 1.6806, 1.6805, 1.6792, 1.6703, 1.6692, 1.6685, 1.6669, 1.6669, 1.6618, 1.6585, 1.6554, 1.6536, 1.639, 1.1726, 1.6391, 1.3316, 0.4192, 0.468, 0.3581, -0.2712, 1.509, 0.7121, 1.1395, 1.5781, -0.3169, 1.5246, 1.5983, 1.5082, -0.5916, -2.195, 0.9047, -0.5581, -1.2371, -1.0568, -1.1652, -2.4437, -0.7522, -1.5627, 1.0498, -0.6862, -1.0467, -1.7488, -2.2642, -1.5123, -1.3874, -2.611, -3.1884, -1.4054, -1.5461, -1.3118, -1.4843, -2.1346]}, \"token.table\": {\"Topic\": [2, 1, 5, 1, 2, 4, 2, 1, 2, 4, 1, 1, 1, 1, 4, 1, 4, 1, 5, 2, 1, 2, 4, 1, 1, 4, 1, 3, 1, 3, 1, 2, 4, 2, 4, 3, 1, 3, 1, 1, 2, 3, 5, 1, 4, 5, 1, 3, 1, 3, 1, 2, 4, 5, 1, 2, 4, 1, 3, 5, 1, 5, 5, 1, 3, 1, 1, 2, 4, 1, 2, 4, 1, 2, 1, 3, 1, 2, 3, 4, 1, 3, 1, 3, 1, 4, 5, 1, 2, 4, 1, 3, 1, 1, 2, 4, 5, 1, 5, 1, 3, 1, 2, 1, 4, 1, 3, 1, 3, 1, 2, 4, 2, 4, 1, 2, 4, 1, 3, 3, 4, 1, 3, 3, 1, 3, 1, 4, 1, 4, 1, 2, 4, 1, 3, 1, 3, 1, 2, 4, 1, 2, 4, 5, 1, 2, 4, 1, 5, 1, 4, 5, 1, 2, 4, 2, 4, 2, 4, 1, 5, 1, 4, 5, 1, 3, 3, 1, 4, 5, 1, 4, 1, 5, 1, 3, 1, 2, 4, 1, 4, 1, 1, 4, 5, 1, 3, 3, 1, 3, 4, 1, 1, 5, 1, 1, 3, 5, 1, 1, 2, 4, 5, 1, 1, 1, 4, 5, 5, 1, 1, 1, 5, 1, 2, 4, 1, 2, 1, 5, 1, 1, 1, 2, 4, 1, 2, 4, 1, 2, 1, 2, 1, 3, 1, 4, 5, 1, 3, 1, 2, 4, 1, 2, 4, 1, 2, 1, 2, 4, 1, 4, 1, 2, 4, 1, 1, 2, 4, 5, 1, 1, 2, 4, 2, 1, 2, 1, 4, 2, 1, 1, 3, 1, 5, 1, 2, 1, 4, 1, 2, 4, 3, 1, 2, 4, 5, 2, 1, 4, 5, 1, 2, 4, 1, 5, 1, 2, 1, 4, 1, 4, 2, 1, 5, 4, 5, 1, 3, 3, 1, 3, 2, 3, 1, 2, 4, 1, 2, 4, 1, 3, 1, 1, 3, 3, 1, 1, 4, 5, 1, 2, 4, 1, 2, 4, 1, 3, 2, 1, 4, 1, 1, 2, 1, 1, 3, 1, 2, 4, 5, 1, 5, 1, 1, 2, 4, 1, 3, 3, 1, 2, 1, 2, 4, 1, 2, 4, 1, 2, 4, 1, 1, 2, 4, 5, 2, 1, 5, 1, 1, 2, 4, 1, 5, 1, 1, 2, 4, 2, 4, 2, 1, 3, 1, 2, 4, 5, 4, 1, 2, 4, 5, 4, 3, 1, 2, 4, 1, 1, 4, 1, 1, 1, 1, 4, 1, 3, 1, 2, 4, 1, 3, 1, 2, 4, 1, 2, 4, 1, 2, 4, 3, 1, 2, 4, 1, 2, 4, 5, 1, 5, 1, 3, 5, 1, 3, 1, 3, 4, 5, 2, 4, 1, 4, 1, 2, 4, 1, 2, 4, 2, 4, 1, 2, 1, 1, 2, 4, 1, 5, 2, 5, 1, 3, 1, 5, 1, 3, 2, 4, 2, 4, 1, 2, 4, 2, 1, 4, 5, 1, 4, 1, 2, 4, 5, 1, 5, 1, 2, 4, 5, 1, 1, 1, 2, 4, 1, 2, 4, 5, 2, 4, 1, 1, 1, 5, 1, 2, 1, 4, 5, 1, 1, 3, 1, 3, 1, 1, 4, 2, 1, 1, 1, 4, 5, 1, 1, 2, 4, 3, 1, 3, 1, 2, 1, 2, 4, 1, 5, 3, 1, 2, 2, 1, 2, 4, 1, 2, 4, 3, 1, 2, 4, 1, 2, 4, 1, 5, 1, 4, 5, 3, 1, 2, 4, 5, 1, 1, 6, 1, 3, 3, 1, 2, 4, 1, 1, 1, 2, 4, 1, 2, 4, 5, 1, 2, 4, 1, 2, 4, 2, 5, 1, 2, 4, 1, 2, 4, 1, 3, 2, 1, 2, 3, 1, 4, 5, 1, 4, 1, 1, 1, 2, 1, 2, 2, 1, 1, 5, 1, 4, 1, 5, 1, 5, 1, 2, 4, 1, 3, 1, 4, 1, 4, 5, 1, 1, 2, 4, 1, 2, 4, 5, 1, 1, 5, 1, 2, 4, 5, 1, 4, 2, 4, 1, 4, 4, 2, 4, 5, 4, 1, 6, 1, 6, 1, 5, 2, 2, 4, 5], \"Freq\": [0.9353595695837007, 0.09132170745427337, 0.8218953670884602, 0.7513929973554879, 0.057799461335037536, 0.14449865333759382, 0.9245707287065438, 0.07571351512079595, 0.7571351512079595, 0.1514270302415919, 0.6661716247907473, 0.9784232066628782, 0.6963652922391591, 0.9765655845236743, 0.012361589677514863, 0.9005918467974786, 0.08405523903443134, 0.5747869565802061, 0.35924184786262875, 0.6406721209835253, 0.32182689320094243, 0.5900159708683945, 0.05363781553349041, 0.647723757561725, 0.42182342457586003, 0.42182342457586003, 0.5344087730688402, 0.4372435416017783, 0.2521294332273747, 0.6723451552729992, 0.8109921754126316, 0.1372448296852146, 0.049907210794623486, 0.7164699594768387, 0.23882331982561286, 0.8575105067344848, 0.42284105956334606, 0.5436527908671592, 0.9516767121707437, 0.14830144844274326, 0.8156579664350879, 0.8040792044882344, 0.47795320453190504, 0.37187438713546744, 0.04648429839193343, 0.5578115807032012, 0.169275523163528, 0.84637761581764, 0.23298768943168846, 0.6989630682950654, 0.8395101764046855, 0.0186557816978819, 0.0373115633957638, 0.0932789084894095, 0.8421802960924005, 0.031191862818237055, 0.12476745127294822, 0.06867024594638975, 0.8927131973030668, 0.034335122973194875, 0.9863185318723908, 0.8589449546242046, 0.9128166004143676, 0.20350537294533522, 0.7122688053086733, 0.9726555247790095, 0.5983080962554101, 0.274224544117063, 0.09971801604256834, 0.9322753285747998, 0.017590100539147165, 0.03518020107829433, 0.09294160651929681, 0.8364744586736713, 0.3232159379565438, 0.5656278914239516, 0.5691298324663748, 0.2845649162331874, 0.03161832402590971, 0.12647329610363883, 0.694486373897725, 0.9230317633549889, 0.33414754464382485, 0.6126038318470123, 0.6044153171212558, 0.09298697186480859, 0.27896091559442576, 0.1269186652632067, 0.2538373305264134, 0.5076746610528268, 0.693132641539459, 0.8170200061722783, 0.6925661744405285, 0.5374378140855779, 0.05374378140855778, 0.05374378140855778, 0.3224626884513467, 0.34464625366339713, 0.5169693804950957, 0.48499574980484034, 0.48499574980484034, 0.8700682844947769, 0.09457263961899749, 0.7979139725883224, 0.17098156555464053, 0.2506722382464409, 0.7018822670900345, 0.06739081386474163, 0.8760805802416413, 0.24324140900753977, 0.5270230528496694, 0.2027011741729498, 0.29504440631837237, 0.5900888126367447, 0.15521403399893582, 0.7372666614949452, 0.11641052549920188, 0.2468353077566184, 0.6582274873509825, 0.36300086048725116, 0.36300086048725116, 0.3416736107671514, 0.6264016197397776, 0.8939151531694894, 0.5395197217955945, 0.4414252269236682, 0.38277130803970755, 0.38277130803970755, 0.4323106099218706, 0.4323106099218706, 0.7123055204053836, 0.2741205201115846, 0.5482410402231692, 0.12770184828974102, 0.7662110897384461, 0.14251130087945874, 0.7125565043972937, 0.05168110834720731, 0.8785788419025243, 0.05168110834720731, 0.40016845353741554, 0.2223158075207864, 0.17785264601662912, 0.17785264601662912, 0.6205957616329499, 0.3463790297486232, 0.0288649191457186, 0.4367274120682793, 0.5240728944819352, 0.37225692004707356, 0.37225692004707356, 0.1240856400156912, 0.9347545087171029, 0.02526363537073251, 0.02526363537073251, 0.6530665154129428, 0.21768883847098094, 0.33488593890920326, 0.6697718778184065, 0.33190293210372557, 0.49785439815558835, 0.5015613569637528, 0.0626951696204691, 0.3761710177228146, 0.5706607087342993, 0.3923292372548308, 0.8406880030472141, 0.457673506434627, 0.03813945886955225, 0.457673506434627, 0.3327607821744619, 0.6655215643489238, 0.3611617769227031, 0.5778588430763251, 0.2941104177205335, 0.6617484398712004, 0.6150179476282, 0.221406461146152, 0.172205025335896, 0.9614269509332556, 0.7227163627365055, 0.771316348049393, 0.5663455382370662, 0.2831727691185331, 0.09439092303951105, 0.4146766584680697, 0.5701804053935959, 0.8992413704250389, 0.22865940500466952, 0.743143066265176, 0.4685875608024375, 0.7205045868103228, 0.3841449327678862, 0.5121932436905149, 0.6979136610462866, 0.17384992918943373, 0.17384992918943373, 0.6953997167577349, 0.7018520514065699, 0.9123883519095809, 0.020275296709101796, 0.020275296709101796, 0.04055059341820359, 0.7115685068472065, 0.6721169773289719, 0.48825220996029867, 0.044386564541845336, 0.44386564541845336, 0.9796243896398865, 0.964682342631345, 0.9646665336079285, 0.3776263713931054, 0.5664395570896581, 0.5196171018591514, 0.3247606886619696, 0.06495213773239393, 0.19133900512000837, 0.5740170153600251, 0.5070936084272295, 0.6972901759125855, 0.6778976764840141, 0.9895198048741024, 0.6036147677685978, 0.352108614531682, 0.03772592298553736, 0.5076380704143062, 0.4351183460694053, 0.07251972434490088, 0.6898103480755007, 0.9308655522989923, 0.9703200106908761, 0.025534737123444107, 0.5335719828661052, 0.44464331905508764, 0.905395009858716, 0.010908373612755614, 0.0654502416765337, 0.6296369649768669, 0.37037468528051, 0.12633569788277096, 0.7580141872966258, 0.08422379858851398, 0.27298312713122913, 0.5459662542624583, 0.13649156356561457, 0.10068273056858952, 0.8054618445487162, 0.05406023239823188, 0.9190239507699419, 0.05406023239823188, 0.2977100957923038, 0.5954201915846076, 0.7546972757424717, 0.06860884324931561, 0.17152210812328902, 0.7076955843935303, 0.7079116918653096, 0.054454745528100736, 0.027227372764050368, 0.19059160934835256, 0.9340493967461777, 0.9056183320004432, 0.018112366640008863, 0.07244946656003545, 0.8716088404131743, 0.7564785579521266, 0.21613673084346474, 0.37983122598114843, 0.5697468389717226, 0.5857517572321616, 0.9721538940939803, 0.23958113698607747, 0.7187434109582325, 0.7072922661834485, 0.247552293164207, 0.16697674937174437, 0.8348837468587219, 0.42372141465908236, 0.5084656975908989, 0.6442656037735618, 0.2577062415094247, 0.07363035471697849, 0.8914617608064948, 0.69414739571388, 0.19832782734682286, 0.09916391367341143, 0.09916391367341143, 0.6849161103630623, 0.5177197882544544, 0.07395996975063635, 0.4067798336284999, 0.12350333448501286, 0.6586844505867352, 0.1646711126466838, 0.7573198977555499, 0.19929470993567103, 0.7249533185623371, 0.25891189948654897, 0.7564801597575543, 0.2224941646345748, 0.9767649939014291, 0.008799684629742606, 0.6326012206309581, 0.3427324878033599, 0.5712208130055998, 0.4067916848915971, 0.881893102740397, 0.521785658106044, 0.46157962063226976, 0.6735642271468839, 0.6499130971715362, 0.35449805300265613, 0.8919562268112435, 0.7638171893345415, 0.25393532871371777, 0.6167000840190289, 0.10882942659159334, 0.1723177538913924, 0.7095436924939686, 0.11149972310619508, 0.6812961284475721, 0.29198405504895947, 0.9768332678818786, 0.5297533973382516, 0.6574073608877127, 0.7678888736274996, 0.6824515516824441, 0.591333540419767, 0.3342320011068249, 0.051420307862588444, 0.3031437895288302, 0.4430563077729057, 0.25650628344747173, 0.34441945801214713, 0.3936222377281681, 0.24601389858010508, 0.2965591531752868, 0.6778494929720841, 0.7302766161216283, 0.3413313451557375, 0.5119970177336062, 0.8092484926336733, 0.7373248800915261, 0.9423309545032447, 0.9705289428618344, 0.217898813887372, 0.653696441662116, 0.5410344694866409, 0.07729063849809156, 0.30916255399236625, 0.07729063849809156, 0.43689401800659583, 0.4854377977851065, 0.9544628280977686, 0.4167667341237915, 0.4167667341237915, 0.1389222447079305, 0.6833326953508121, 0.7944683647480161, 0.7012212785071352, 0.9431261822182349, 0.042869371919010676, 0.553061646002281, 0.38714315220159673, 0.02765308230011405, 0.6075912434783299, 0.05283402117202869, 0.3170041270321722, 0.15337236482512392, 0.30674472965024785, 0.46011709447537175, 0.9808316249748, 0.2958164718890213, 0.13147398750623168, 0.427290459395253, 0.09860549062967378, 0.9235774847088313, 0.9838960828682034, 0.016129443981445956, 0.9760441495155653, 0.06391884352253686, 0.8309449657929792, 0.06391884352253686, 0.22804113021153496, 0.6841233906346049, 0.9829932306986736, 0.13693811091146119, 0.6162214991015753, 0.20540716636719178, 0.8175930464431731, 0.596722504679817, 0.7345543950737359, 0.9840541887930203, 0.8425341929475046, 0.41615673137158166, 0.5121929001496389, 0.03201205625935243, 0.03201205625935243, 0.4192472910585321, 0.5403084787562689, 0.08312438134711829, 0.290935334714914, 0.041562190673559145, 0.5938814105910408, 0.7156216777005888, 0.47777543049889226, 0.4154568960859933, 0.10386422402149832, 0.8717712268945336, 0.9929293218963826, 0.004915491692556349, 0.9845458482873658, 0.7849114232411495, 0.7189376314111403, 0.9828919486510134, 0.015121414594630974, 0.15545883468940036, 0.7772941734470019, 0.8628092110900103, 0.09804650126022844, 0.01960930025204569, 0.1283501607745164, 0.7701009646470983, 0.3742511054851701, 0.40303965206095244, 0.20151982603047622, 0.6352446374406657, 0.2540978549762663, 0.08469928499208876, 0.6589872126964362, 0.20451327290579055, 0.11361848494766143, 0.7334995702031872, 0.7779329881, 0.0740888560095238, 0.1481777120190476, 0.4624659919426043, 0.0660665702775149, 0.0660665702775149, 0.3963994216650894, 0.22266205939079045, 0.4453241187815809, 0.18127952431938174, 0.18127952431938174, 0.5438385729581452, 0.14604551755334627, 0.7302275877667315, 0.9451348642421853, 0.022503211053385364, 0.022503211053385364, 0.022503211053385364, 0.3315795792095044, 0.3315795792095044, 0.3993636207744644, 0.3993636207744644, 0.7860835773703484, 0.1814039024700804, 0.0302339837450134, 0.4732645550817625, 0.15775485169392084, 0.3155097033878417, 0.4498006459943766, 0.4498006459943766, 0.26399516180247035, 0.6863874206864228, 0.6931164651613465, 0.7286471905064574, 0.21859415715193725, 0.03643235952532287, 0.45291332953893626, 0.45291332953893626, 0.2435477767839839, 0.7306433303519517, 0.09894182582952557, 0.8904764324657302, 0.46249702780717056, 0.46249702780717056, 0.51565225241908, 0.9220743791077195, 0.3093045276626069, 0.6186090553252138, 0.7116749651786544, 0.1779187412946636, 0.08403512058595801, 0.756316085273622, 0.16807024117191602, 0.9062561915057541, 0.1089530183203284, 0.0544765091601642, 0.817147637402463, 0.9776419153246696, 0.013578359935064855, 0.7188122308329327, 0.22629273933629362, 0.013311337608017271, 0.026622675216034543, 0.6982110973465865, 0.29923332743425135, 0.40272213047491945, 0.17259519877496549, 0.0575317329249885, 0.34519039754993097, 0.962865591306509, 0.9890024828876518, 0.7460820684010914, 0.1119123102601637, 0.1119123102601637, 0.7754956407701242, 0.11930702165694218, 0.029826755414235545, 0.05965351082847109, 0.61842046785741, 0.575957582398226, 0.9698847974940377, 0.9757392130981571, 0.22376989789542354, 0.6713096936862707, 0.7094628998691083, 0.9455123698170923, 0.3086261564310898, 0.5143769273851497, 0.2057507709540599, 0.9799129207799004, 0.4515130671611642, 0.5160149338984733, 0.2117208624751143, 0.6351625874253429, 0.9766504775598038, 0.5357679032705603, 0.35717860218037356, 0.7185657107603635, 0.8142772092404106, 0.9817181909117955, 0.9394962646696902, 0.021848750341155583, 0.021848750341155583, 0.6811368466587904, 0.7060931783225517, 0.14977734085629885, 0.12838057787682758, 0.8405755393055608, 0.204253374183237, 0.817013496732948, 0.22571069863360985, 0.6771320959008296, 0.07723286700160577, 0.6178629360128461, 0.30893146800642307, 0.21710020424477378, 0.6513006127343214, 0.646820738894974, 0.12108996877431914, 0.7265398126459148, 0.6791641253763706, 0.8801239290374597, 0.07653251556847476, 0.01913312889211869, 0.17138703998452318, 0.17138703998452318, 0.5141611199535696, 0.795960190824884, 0.7696146562799033, 0.16730753397389203, 0.033461506794778405, 0.43496599104112227, 0.5353427582044582, 0.03345892238777864, 0.8530567164626006, 0.08530567164626006, 0.48359905979635487, 0.16119968659878495, 0.3223993731975699, 0.6552945663533892, 0.753814942168392, 0.11085513855417528, 0.11085513855417528, 0.022171027710835057, 0.6945664324571025, 0.8998814779914933, 0.14998024633191556, 0.17825202719162603, 0.7724254511637128, 0.7428917052137439, 0.9370197663902666, 0.021791157357913177, 0.021791157357913177, 0.6847273249419451, 0.9604922301505064, 0.09911872329878772, 0.8425091480396957, 0.04955936164939386, 0.19442544895503705, 0.7777017958201482, 0.3673533365102256, 0.5510300047653385, 0.07214749472933625, 0.6493274525640262, 0.21644248418800877, 0.36694810564331976, 0.4892641408577597, 0.061158017607219964, 0.8306623274726426, 0.5695957907128765, 0.3321288378914111, 0.16606441894570556, 0.3321288378914111, 0.04592312696578676, 0.8266162853841617, 0.09184625393157352, 0.3016106559510625, 0.603221311902125, 0.6398747362907856, 0.5716079420113416, 0.5716079420113416, 0.861056021703394, 0.1798623380250968, 0.03597246760501936, 0.7913942873104259, 0.9656195683571325, 0.019706521803206783, 0.9643246981820086, 0.9664378290683676, 0.6175563327730164, 0.3087781663865082, 0.8737456909323481, 0.10590856859786038, 0.9638960175567001, 0.7208210702998038, 0.3127516508431042, 0.6255033016862084, 0.340443591581654, 0.340443591581654, 0.7223479776943262, 0.28091310243668244, 0.20394340222030322, 0.6118302066609096, 0.58050422595046, 0.17667519920231395, 0.22715382754583222, 0.7004657020560203, 0.6279167849365319, 0.3644630678469768, 0.5466946017704652, 0.50668376504761, 0.06107222765008523, 0.9160834147512784, 0.9185711032187834, 0.35226390738520097, 0.553557568748173, 0.050323415340743, 0.632745159447957, 0.048672704572919764, 0.048672704572919764, 0.24336352286459884, 0.6907909260939057, 0.36263873478493097, 0.5439581021773964, 0.34276430611966957, 0.14995938392735544, 0.14995938392735544, 0.34276430611966957, 0.26331291483876135, 0.5266258296775227, 0.2625960729256377, 0.5251921458512754, 0.6669429070892178, 0.4389899915616172, 0.49331624025951165, 0.8312042817558757, 0.03324817127023503, 0.13299268508094012, 0.7270202223317307, 0.5689439014225715, 0.2844719507112857, 0.2627621816400923, 0.7882865449202769, 0.8793102536368399, 0.10767064330247018, 0.8528237093007947, 0.8898772975153019, 0.1424003841953046, 0.712001920976523], \"Term\": [\"acer\", \"addon\", \"addon\", \"air\", \"air\", \"air\", \"alienwar\", \"amd\", \"amd\", \"amd\", \"amper\", \"android\", \"antutu\", \"app\", \"app\", \"appl\", \"appl\", \"appli\", \"appli\", \"asa\", \"asu\", \"asu\", \"asu\", \"atp\", \"atx\", \"atx\", \"babi\", \"babi\", \"bake\", \"bake\", \"batteri\", \"batteri\", \"batteri\", \"battlefield\", \"battlefield\", \"bb\", \"birthday\", \"birthday\", \"blackberri\", \"blade\", \"blade\", \"blender\", \"bookmark\", \"browser\", \"browser\", \"browser\", \"burger\", \"burger\", \"butter\", \"butter\", \"button\", \"button\", \"button\", \"button\", \"cabl\", \"cabl\", \"cabl\", \"cake\", \"cake\", \"cake\", \"camera\", \"camstudio\", \"camtasia\", \"candi\", \"candi\", \"car\", \"card\", \"card\", \"card\", \"charg\", \"charg\", \"charg\", \"chassi\", \"chassi\", \"chees\", \"chees\", \"chip\", \"chip\", \"chip\", \"chip\", \"chirp\", \"chocol\", \"christma\", \"christma\", \"chrome\", \"chrome\", \"chrome\", \"chromebook\", \"chromebook\", \"chromebook\", \"chunkier\", \"cinnamon\", \"claustrophob\", \"click\", \"click\", \"click\", \"click\", \"codec\", \"codec\", \"coffe\", \"coffe\", \"color\", \"color\", \"consol\", \"consol\", \"cook\", \"cook\", \"cooki\", \"cooki\", \"core\", \"core\", \"core\", \"corsair\", \"corsair\", \"cpu\", \"cpu\", \"cpu\", \"cream\", \"cream\", \"crumb\", \"crumb\", \"cup\", \"cup\", \"cupcak\", \"cute\", \"cute\", \"cyberpunk\", \"cyberpunk\", \"cyborg\", \"cyborg\", \"darkest\", \"ddr\", \"ddr\", \"decor\", \"decor\", \"delici\", \"delici\", \"dell\", \"dell\", \"dell\", \"desktop\", \"desktop\", \"desktop\", \"desktop\", \"devic\", \"devic\", \"devic\", \"disabl\", \"disabl\", \"disk\", \"disk\", \"disk\", \"display\", \"display\", \"display\", \"displayport\", \"displayport\", \"dl\", \"dl\", \"doc\", \"doc\", \"dock\", \"dock\", \"dock\", \"dog\", \"dog\", \"dough\", \"download\", \"download\", \"download\", \"dpi\", \"dpi\", \"drag\", \"drag\", \"drink\", \"drink\", \"drive\", \"drive\", \"drive\", \"drone\", \"dvi\", \"dx\", \"earth\", \"earth\", \"earth\", \"eat\", \"eat\", \"edibl\", \"egg\", \"egg\", \"enclosur\", \"ep\", \"exit\", \"exit\", \"exodu\", \"extract\", \"extract\", \"extract\", \"eyewat\", \"featur\", \"featur\", \"featur\", \"featur\", \"fiddli\", \"fidel\", \"file\", \"file\", \"file\", \"firefox\", \"flagship\", \"fold\", \"folder\", \"folder\", \"fp\", \"fp\", \"fp\", \"framer\", \"framer\", \"freesync\", \"freewar\", \"fur\", \"galaxi\", \"game\", \"game\", \"game\", \"gamer\", \"gamer\", \"gamer\", \"gettin\", \"gl\", \"glass\", \"glass\", \"god\", \"god\", \"googl\", \"googl\", \"googl\", \"gosh\", \"gosh\", \"gpu\", \"gpu\", \"gpu\", \"graphic\", \"graphic\", \"graphic\", \"gsync\", \"gsync\", \"gtx\", \"gtx\", \"gtx\", \"hackintosh\", \"hackintosh\", \"hard\", \"hard\", \"hard\", \"hassl\", \"hd\", \"hd\", \"hd\", \"hd\", \"hdr\", \"headphon\", \"headphon\", \"headphon\", \"helio\", \"hertz\", \"hertz\", \"high\", \"high\", \"hitman\", \"htc\", \"ice\", \"ice\", \"icon\", \"icon\", \"idl\", \"idl\", \"imac\", \"imac\", \"inch\", \"inch\", \"inch\", \"ingredi\", \"input\", \"input\", \"input\", \"input\", \"inspiron\", \"instal\", \"instal\", \"instal\", \"intel\", \"intel\", \"intel\", \"internet\", \"internet\", \"ip\", \"ip\", \"ipad\", \"ipad\", \"iphon\", \"iphon\", \"isuzu\", \"itun\", \"itun\", \"itx\", \"jaybird\", \"jenna\", \"jenna\", \"ju\", \"justin\", \"justin\", \"kabi\", \"ketchup\", \"keyboard\", \"keyboard\", \"keyboard\", \"laptop\", \"laptop\", \"laptop\", \"laugh\", \"laugh\", \"len\", \"letterbox\", \"libbi\", \"lobster\", \"lowend\", \"mac\", \"mac\", \"mac\", \"macbook\", \"macbook\", \"macbook\", \"machin\", \"machin\", \"machin\", \"maddi\", \"maddi\", \"magnesium\", \"mar\", \"mar\", \"martha\", \"martyr\", \"maxq\", \"megapixel\", \"melt\", \"melt\", \"memori\", \"memori\", \"memori\", \"memori\", \"menu\", \"menu\", \"microphon\", \"millisecond\", \"millisecond\", \"millisecond\", \"mislead\", \"mixer\", \"mmhm\", \"mode\", \"mode\", \"model\", \"model\", \"model\", \"monitor\", \"monitor\", \"monitor\", \"motherboard\", \"motherboard\", \"motherboard\", \"moto\", \"mous\", \"mous\", \"mous\", \"mous\", \"msi\", \"nexu\", \"nexu\", \"note\", \"notebook\", \"notebook\", \"notebook\", \"notepad\", \"notepad\", \"notif\", \"nvidia\", \"nvidia\", \"nvidia\", \"nvme\", \"nzxt\", \"omen\", \"oneplu\", \"oven\", \"panel\", \"panel\", \"panel\", \"panel\", \"pavilion\", \"pc\", \"pc\", \"pc\", \"pc\", \"pci\", \"pepper\", \"perform\", \"perform\", \"perform\", \"pg\", \"phone\", \"phone\", \"photo\", \"pierc\", \"pit\", \"pixel\", \"pixel\", \"pizza\", \"pizza\", \"play\", \"play\", \"play\", \"pokemon\", \"pokemon\", \"port\", \"port\", \"port\", \"pound\", \"pound\", \"pound\", \"power\", \"power\", \"power\", \"pretzel\", \"pro\", \"pro\", \"pro\", \"program\", \"program\", \"program\", \"program\", \"prompt\", \"prompt\", \"properti\", \"properti\", \"properti\", \"pumpkin\", \"pumpkin\", \"question\", \"question\", \"question\", \"question\", \"radeon\", \"radeon\", \"rat\", \"rat\", \"rate\", \"rate\", \"rate\", \"ray\", \"ray\", \"ray\", \"raytrac\", \"raytrac\", \"razer\", \"razer\", \"redempt\", \"refresh\", \"refresh\", \"refresh\", \"request\", \"request\", \"rightclick\", \"rightclick\", \"ro\", \"ro\", \"rocket\", \"rocket\", \"rogu\", \"rosanna\", \"rpm\", \"rpm\", \"rt\", \"rt\", \"rtx\", \"rtx\", \"rtx\", \"ryzen\", \"safari\", \"safari\", \"safari\", \"samsung\", \"samsung\", \"screen\", \"screen\", \"screen\", \"screen\", \"search\", \"search\", \"select\", \"select\", \"select\", \"select\", \"selfi\", \"sensor\", \"seri\", \"seri\", \"seri\", \"set\", \"set\", \"set\", \"set\", \"seuss\", \"seusss\", \"shoot\", \"shot\", \"sidebar\", \"sidebar\", \"sku\", \"skylak\", \"skype\", \"skype\", \"skype\", \"smartphon\", \"smell\", \"smell\", \"snack\", \"snack\", \"snapdragon\", \"solar\", \"solar\", \"solder\", \"somebodi\", \"soni\", \"sort\", \"sort\", \"sort\", \"spawn\", \"speaker\", \"speaker\", \"speaker\", \"sprinkl\", \"squatch\", \"squatch\", \"srgb\", \"srgb\", \"ssd\", \"ssd\", \"ssd\", \"startup\", \"startup\", \"steak\", \"stealth\", \"stealth\", \"strix\", \"stuff\", \"stuff\", \"stuff\", \"subwoof\", \"subwoof\", \"subwoof\", \"sugar\", \"support\", \"support\", \"support\", \"surfac\", \"surfac\", \"surfac\", \"sync\", \"sync\", \"tab\", \"tab\", \"tab\", \"tablespoon\", \"tablet\", \"tablet\", \"tablet\", \"tablet\", \"tackl\", \"talent\", \"talent\", \"tast\", \"tast\", \"teaspoon\", \"tech\", \"tech\", \"tech\", \"teraflop\", \"tesla\", \"thermal\", \"thermal\", \"thermal\", \"throttl\", \"throttl\", \"thunderbird\", \"thunderbird\", \"thunderbolt\", \"thunderbolt\", \"thunderbolt\", \"ti\", \"ti\", \"ti\", \"tn\", \"toolbar\", \"trace\", \"trace\", \"trace\", \"trackpad\", \"trackpad\", \"trackpad\", \"treat\", \"treat\", \"triton\", \"ttp\", \"ttp\", \"turkey\", \"tutori\", \"tutori\", \"tutori\", \"tv\", \"tv\", \"tweet\", \"twitter\", \"uhd\", \"uhd\", \"ultra\", \"ultra\", \"ultrabook\", \"unaccept\", \"uncheck\", \"uncheck\", \"unscrew\", \"unscrew\", \"upload\", \"upload\", \"url\", \"url\", \"usb\", \"usb\", \"usb\", \"va\", \"veda\", \"vga\", \"vga\", \"visa\", \"vista\", \"vista\", \"vote\", \"watt\", \"watt\", \"watt\", \"web\", \"web\", \"web\", \"web\", \"wee\", \"widescreen\", \"widescreen\", \"window\", \"window\", \"window\", \"window\", \"woofer\", \"woofer\", \"workstat\", \"workstat\", \"worthwhil\", \"xdr\", \"xeon\", \"xp\", \"xp\", \"xp\", \"xt\", \"yahoo\", \"yahoo\", \"yeti\", \"yeti\", \"youtub\", \"youtub\", \"zenbook\", \"zephyru\", \"zune\", \"zune\"]}, \"R\": 30, \"lambda.step\": 0.01, \"plot.opts\": {\"xlab\": \"PC1\", \"ylab\": \"PC2\"}, \"topic.order\": [7, 2, 1, 6, 3, 5, 4]};\n",
       "\n",
       "function LDAvis_load_lib(url, callback){\n",
       "  var s = document.createElement('script');\n",
       "  s.src = url;\n",
       "  s.async = true;\n",
       "  s.onreadystatechange = s.onload = callback;\n",
       "  s.onerror = function(){console.warn(\"failed to load library \" + url);};\n",
       "  document.getElementsByTagName(\"head\")[0].appendChild(s);\n",
       "}\n",
       "\n",
       "if(typeof(LDAvis) !== \"undefined\"){\n",
       "   // already loaded: just create the visualization\n",
       "   !function(LDAvis){\n",
       "       new LDAvis(\"#\" + \"ldavis_el322511405745381278404414594546\", ldavis_el322511405745381278404414594546_data);\n",
       "   }(LDAvis);\n",
       "}else if(typeof define === \"function\" && define.amd){\n",
       "   // require.js is available: use it to load d3/LDAvis\n",
       "   require.config({paths: {d3: \"https://d3js.org/d3.v5\"}});\n",
       "   require([\"d3\"], function(d3){\n",
       "      window.d3 = d3;\n",
       "      LDAvis_load_lib(\"https://cdn.jsdelivr.net/gh/bmabey/pyLDAvis@3.3.1/pyLDAvis/js/ldavis.v3.0.0.js\", function(){\n",
       "        new LDAvis(\"#\" + \"ldavis_el322511405745381278404414594546\", ldavis_el322511405745381278404414594546_data);\n",
       "      });\n",
       "    });\n",
       "}else{\n",
       "    // require.js not available: dynamically load d3 & LDAvis\n",
       "    LDAvis_load_lib(\"https://d3js.org/d3.v5.js\", function(){\n",
       "         LDAvis_load_lib(\"https://cdn.jsdelivr.net/gh/bmabey/pyLDAvis@3.3.1/pyLDAvis/js/ldavis.v3.0.0.js\", function(){\n",
       "                 new LDAvis(\"#\" + \"ldavis_el322511405745381278404414594546\", ldavis_el322511405745381278404414594546_data);\n",
       "            })\n",
       "         });\n",
       "}\n",
       "</script>"
      ],
      "text/plain": [
       "PreparedData(topic_coordinates=              x         y  topics  cluster       Freq\n",
       "topic                                                \n",
       "6     -0.028272  0.009598       1        1  75.511455\n",
       "1     -0.114187 -0.127732       2        1   8.756333\n",
       "0      0.227098 -0.025895       3        1   5.503444\n",
       "5     -0.106100 -0.029338       4        1   3.910624\n",
       "2     -0.059723  0.185251       5        1   3.389984\n",
       "4      0.040380 -0.006352       6        1   1.469775\n",
       "3      0.040804 -0.005532       7        1   1.458386, topic_info=        Term       Freq      Total Category  logprob  loglift\n",
       "578   laptop  98.000000  98.000000  Default  30.0000  30.0000\n",
       "159      pro  80.000000  80.000000  Default  29.0000  29.0000\n",
       "320    googl  91.000000  91.000000  Default  28.0000  28.0000\n",
       "4772   jenna  49.000000  49.000000  Default  27.0000  27.0000\n",
       "318     game  79.000000  79.000000  Default  26.0000  26.0000\n",
       "...      ...        ...        ...      ...      ...      ...\n",
       "187      set   0.119927  33.526945   Topic7  -8.4816  -1.4054\n",
       "142   oneplu   0.119997  38.615760   Topic7  -8.4810  -1.5461\n",
       "1246    mous   0.119504  30.424269   Topic7  -8.4852  -1.3118\n",
       "131    model   0.119537  36.162334   Topic7  -8.4849  -1.4843\n",
       "291    devic   0.119531  69.288259   Topic7  -8.4849  -2.1346\n",
       "\n",
       "[457 rows x 6 columns], token_table=      Topic      Freq     Term\n",
       "term                          \n",
       "2533      2  0.935360     acer\n",
       "4279      1  0.091322    addon\n",
       "4279      5  0.821895    addon\n",
       "530       1  0.751393      air\n",
       "530       2  0.057799      air\n",
       "...     ...       ...      ...\n",
       "525       5  0.107671   youtub\n",
       "2279      2  0.852824  zenbook\n",
       "2988      2  0.889877  zephyru\n",
       "5083      4  0.142400     zune\n",
       "5083      5  0.712002     zune\n",
       "\n",
       "[682 rows x 3 columns], R=30, lambda_step=0.01, plot_opts={'xlab': 'PC1', 'ylab': 'PC2'}, topic_order=[7, 2, 1, 6, 3, 5, 4])"
      ]
     },
     "execution_count": 22,
     "metadata": {},
     "output_type": "execute_result"
    }
   ],
   "source": [
    "pyLDAvis.enable_notebook()\n",
    "%matplotlib inline\n",
    "\n",
    "pyLDAvis.enable_notebook()\n",
    "vis = gensimvis.prepare(lda_model, corpus, dictionary)\n",
    "vis\n"
   ]
  },
  {
   "cell_type": "markdown",
   "metadata": {},
   "source": [
    "***"
   ]
  },
  {
   "cell_type": "markdown",
   "metadata": {},
   "source": [
    "### Saving the model and the dictionary"
   ]
  },
  {
   "cell_type": "code",
   "execution_count": 33,
   "metadata": {},
   "outputs": [
    {
     "name": "stderr",
     "output_type": "stream",
     "text": [
      "/home/sad/anaconda3/lib/python3.8/site-packages/ipykernel/ipkernel.py:287: DeprecationWarning: `should_run_async` will not call `transform_cell` automatically in the future. Please pass the result to `transformed_cell` argument and any exception that happen during thetransform in `preprocessing_exc_tuple` in IPython 7.17 and above.\n",
      "  and should_run_async(code)\n"
     ]
    }
   ],
   "source": [
    "# Save model to disk.\n",
    "# temp_file = datapath(\"./model\")\n",
    "lda_model.save('./model')\n",
    "\n",
    "#save dictionary to disk\n",
    "dictionary.save(\"./dictionary\")"
   ]
  },
  {
   "cell_type": "markdown",
   "metadata": {},
   "source": [
    "***\n",
    "<div class=\"alert alert-info\" style=\"background-color:#cce5ff; color:white; padding:0px 10px; border-radius:5px;\"><h2 style='margin:10px 5px; color:black;'>Topic distribution over docutments</h2>\n",
    "</div>"
   ]
  },
  {
   "cell_type": "code",
   "execution_count": 18,
   "metadata": {},
   "outputs": [
    {
     "name": "stderr",
     "output_type": "stream",
     "text": [
      "/home/sad/anaconda3/lib/python3.8/site-packages/ipykernel/ipkernel.py:287: DeprecationWarning: `should_run_async` will not call `transform_cell` automatically in the future. Please pass the result to `transformed_cell` argument and any exception that happen during thetransform in `preprocessing_exc_tuple` in IPython 7.17 and above.\n",
      "  and should_run_async(code)\n"
     ]
    },
    {
     "data": {
      "text/html": [
       "<div>\n",
       "<style scoped>\n",
       "    .dataframe tbody tr th:only-of-type {\n",
       "        vertical-align: middle;\n",
       "    }\n",
       "\n",
       "    .dataframe tbody tr th {\n",
       "        vertical-align: top;\n",
       "    }\n",
       "\n",
       "    .dataframe thead th {\n",
       "        text-align: right;\n",
       "    }\n",
       "</style>\n",
       "<table border=\"1\" class=\"dataframe\">\n",
       "  <thead>\n",
       "    <tr style=\"text-align: right;\">\n",
       "      <th></th>\n",
       "      <th>video_id</th>\n",
       "      <th>t1</th>\n",
       "      <th>t2</th>\n",
       "      <th>t3</th>\n",
       "      <th>t4</th>\n",
       "      <th>t5</th>\n",
       "      <th>t6</th>\n",
       "      <th>t7</th>\n",
       "    </tr>\n",
       "  </thead>\n",
       "  <tbody>\n",
       "    <tr>\n",
       "      <th>0</th>\n",
       "      <td>C12D0TtKqVs</td>\n",
       "      <td>0.00001</td>\n",
       "      <td>0.000010</td>\n",
       "      <td>0.000010</td>\n",
       "      <td>0.00001</td>\n",
       "      <td>0.00001</td>\n",
       "      <td>0.000010</td>\n",
       "      <td>0.997874</td>\n",
       "    </tr>\n",
       "    <tr>\n",
       "      <th>1</th>\n",
       "      <td>Vd-SsCiO-g0</td>\n",
       "      <td>0.00001</td>\n",
       "      <td>0.000010</td>\n",
       "      <td>0.000010</td>\n",
       "      <td>0.00001</td>\n",
       "      <td>0.00001</td>\n",
       "      <td>0.000010</td>\n",
       "      <td>0.998692</td>\n",
       "    </tr>\n",
       "    <tr>\n",
       "      <th>2</th>\n",
       "      <td>wdt9hrwiaJs</td>\n",
       "      <td>0.00001</td>\n",
       "      <td>0.000010</td>\n",
       "      <td>0.000010</td>\n",
       "      <td>0.00001</td>\n",
       "      <td>0.00001</td>\n",
       "      <td>0.000010</td>\n",
       "      <td>0.995033</td>\n",
       "    </tr>\n",
       "    <tr>\n",
       "      <th>3</th>\n",
       "      <td>zONg2dp0rss</td>\n",
       "      <td>0.00001</td>\n",
       "      <td>0.000010</td>\n",
       "      <td>0.000010</td>\n",
       "      <td>0.00001</td>\n",
       "      <td>0.00001</td>\n",
       "      <td>0.403024</td>\n",
       "      <td>0.595146</td>\n",
       "    </tr>\n",
       "    <tr>\n",
       "      <th>4</th>\n",
       "      <td>qBWnmy_F5N0</td>\n",
       "      <td>0.00001</td>\n",
       "      <td>0.000010</td>\n",
       "      <td>0.000010</td>\n",
       "      <td>0.00001</td>\n",
       "      <td>0.00001</td>\n",
       "      <td>0.000010</td>\n",
       "      <td>0.996214</td>\n",
       "    </tr>\n",
       "    <tr>\n",
       "      <th>...</th>\n",
       "      <td>...</td>\n",
       "      <td>...</td>\n",
       "      <td>...</td>\n",
       "      <td>...</td>\n",
       "      <td>...</td>\n",
       "      <td>...</td>\n",
       "      <td>...</td>\n",
       "      <td>...</td>\n",
       "    </tr>\n",
       "    <tr>\n",
       "      <th>4562</th>\n",
       "      <td>K7uLph0s6f0</td>\n",
       "      <td>0.00001</td>\n",
       "      <td>0.000010</td>\n",
       "      <td>0.000010</td>\n",
       "      <td>0.00001</td>\n",
       "      <td>0.00001</td>\n",
       "      <td>0.000010</td>\n",
       "      <td>0.986588</td>\n",
       "    </tr>\n",
       "    <tr>\n",
       "      <th>4563</th>\n",
       "      <td>wUhf0sWhtKw</td>\n",
       "      <td>0.00001</td>\n",
       "      <td>0.010404</td>\n",
       "      <td>0.000010</td>\n",
       "      <td>0.00001</td>\n",
       "      <td>0.00001</td>\n",
       "      <td>0.000010</td>\n",
       "      <td>0.988309</td>\n",
       "    </tr>\n",
       "    <tr>\n",
       "      <th>4564</th>\n",
       "      <td>ay8Ya0DYDYE</td>\n",
       "      <td>0.00001</td>\n",
       "      <td>0.000010</td>\n",
       "      <td>0.000010</td>\n",
       "      <td>0.00001</td>\n",
       "      <td>0.00001</td>\n",
       "      <td>0.000010</td>\n",
       "      <td>0.998008</td>\n",
       "    </tr>\n",
       "    <tr>\n",
       "      <th>4565</th>\n",
       "      <td>JUsA_Qy8fXE</td>\n",
       "      <td>0.00001</td>\n",
       "      <td>0.000010</td>\n",
       "      <td>0.980616</td>\n",
       "      <td>0.00001</td>\n",
       "      <td>0.00001</td>\n",
       "      <td>0.000010</td>\n",
       "      <td>0.016854</td>\n",
       "    </tr>\n",
       "    <tr>\n",
       "      <th>4566</th>\n",
       "      <td>4i3oKEg6o9g</td>\n",
       "      <td>0.00001</td>\n",
       "      <td>0.000010</td>\n",
       "      <td>0.000010</td>\n",
       "      <td>0.00001</td>\n",
       "      <td>0.00001</td>\n",
       "      <td>0.000010</td>\n",
       "      <td>0.997166</td>\n",
       "    </tr>\n",
       "  </tbody>\n",
       "</table>\n",
       "<p>4567 rows × 8 columns</p>\n",
       "</div>"
      ],
      "text/plain": [
       "         video_id       t1        t2        t3       t4       t5        t6  \\\n",
       "0     C12D0TtKqVs  0.00001  0.000010  0.000010  0.00001  0.00001  0.000010   \n",
       "1     Vd-SsCiO-g0  0.00001  0.000010  0.000010  0.00001  0.00001  0.000010   \n",
       "2     wdt9hrwiaJs  0.00001  0.000010  0.000010  0.00001  0.00001  0.000010   \n",
       "3     zONg2dp0rss  0.00001  0.000010  0.000010  0.00001  0.00001  0.403024   \n",
       "4     qBWnmy_F5N0  0.00001  0.000010  0.000010  0.00001  0.00001  0.000010   \n",
       "...           ...      ...       ...       ...      ...      ...       ...   \n",
       "4562  K7uLph0s6f0  0.00001  0.000010  0.000010  0.00001  0.00001  0.000010   \n",
       "4563  wUhf0sWhtKw  0.00001  0.010404  0.000010  0.00001  0.00001  0.000010   \n",
       "4564  ay8Ya0DYDYE  0.00001  0.000010  0.000010  0.00001  0.00001  0.000010   \n",
       "4565  JUsA_Qy8fXE  0.00001  0.000010  0.980616  0.00001  0.00001  0.000010   \n",
       "4566  4i3oKEg6o9g  0.00001  0.000010  0.000010  0.00001  0.00001  0.000010   \n",
       "\n",
       "            t7  \n",
       "0     0.997874  \n",
       "1     0.998692  \n",
       "2     0.995033  \n",
       "3     0.595146  \n",
       "4     0.996214  \n",
       "...        ...  \n",
       "4562  0.986588  \n",
       "4563  0.988309  \n",
       "4564  0.998008  \n",
       "4565  0.016854  \n",
       "4566  0.997166  \n",
       "\n",
       "[4567 rows x 8 columns]"
      ]
     },
     "execution_count": 18,
     "metadata": {},
     "output_type": "execute_result"
    }
   ],
   "source": [
    "# Predicting confidence for each document\n",
    "def predict_conf(row):\n",
    "    for pred in lda_model[dictionary.doc2bow(row['words'])]:\n",
    "        row['t{}'.format(pred[0]+1)] = pred[1]\n",
    "    return row\n",
    "# copiyng the dataframe\n",
    "df_video_topic = df.copy()\n",
    "# adding the tokeniz to the dataframe\n",
    "df_video_topic['words'] = data_words\n",
    "# adding columns for each topic\n",
    "df_video_topic = pd.concat([df_video_topic,pd.DataFrame(columns=['t{}'.format(i) for i in range(1,8)])])\n",
    "# applying the prediction function\n",
    "df_video_topic.apply(predict_conf,1)\n",
    "# removing the unnecessary columns\n",
    "df_video_topic.drop(columns=['text','words'],inplace=True)\n",
    "# removing the .txt from the end of each video_id\n",
    "df_video_topic[\"file\"] = df_video_topic[\"file\"].apply(lambda x: x[:-4])\n",
    "# renaming the file into video_id\n",
    "df_video_topic.rename(columns={'file':'video_id'},inplace=True)\n",
    "df_video_topic.index = [i for i in range(0,4567)]\n",
    "df_video_topic"
   ]
  },
  {
   "cell_type": "markdown",
   "metadata": {},
   "source": [
    "### Saving the topic distribution over documents"
   ]
  },
  {
   "cell_type": "code",
   "execution_count": 158,
   "metadata": {},
   "outputs": [
    {
     "name": "stderr",
     "output_type": "stream",
     "text": [
      "/home/sad/anaconda3/lib/python3.8/site-packages/ipykernel/ipkernel.py:287: DeprecationWarning: `should_run_async` will not call `transform_cell` automatically in the future. Please pass the result to `transformed_cell` argument and any exception that happen during thetransform in `preprocessing_exc_tuple` in IPython 7.17 and above.\n",
      "  and should_run_async(code)\n"
     ]
    }
   ],
   "source": [
    "df_video_topic.to_csv('videos-topics.csv')"
   ]
  }
 ],
 "metadata": {
  "kernelspec": {
   "display_name": "Python 3",
   "language": "python",
   "name": "python3"
  },
  "language_info": {
   "codemirror_mode": {
    "name": "ipython",
    "version": 3
   },
   "file_extension": ".py",
   "mimetype": "text/x-python",
   "name": "python",
   "nbconvert_exporter": "python",
   "pygments_lexer": "ipython3",
   "version": "3.8.5"
  }
 },
 "nbformat": 4,
 "nbformat_minor": 4
}
