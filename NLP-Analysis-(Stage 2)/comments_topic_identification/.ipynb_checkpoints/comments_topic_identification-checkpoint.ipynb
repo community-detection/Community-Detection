{
 "cells": [
  {
   "cell_type": "markdown",
   "metadata": {},
   "source": [
    "<div class=\"alert alert-info\" style=\"background-color:#5d3a8e; color:white; padding:0px 10px; border-radius:5px;\"><h2 style='margin:10px 5px'> Reading comment dataset</h2>\n",
    "</div>"
   ]
  },
  {
   "cell_type": "code",
   "execution_count": 1,
   "metadata": {},
   "outputs": [
    {
     "name": "stderr",
     "output_type": "stream",
     "text": [
      "[nltk_data] Downloading package stopwords to\n",
      "[nltk_data]     /Users/emadarmiti/nltk_data...\n",
      "[nltk_data]   Package stopwords is already up-to-date!\n"
     ]
    }
   ],
   "source": [
    "# import libraries\n",
    "import pandas as pd\n",
    "import numpy as np\n",
    "import os\n",
    "import json\n",
    "import string\n",
    "import nltk\n",
    "\n",
    "# topic modiling\n",
    "import gensim\n",
    "from gensim import corpora, models\n",
    "from gensim.test.utils import datapath\n",
    "from gensim.test.utils import datapath\n",
    "\n",
    "# stemmer\n",
    "from nltk.stem import PorterStemmer\n",
    "from nltk.tokenize import sent_tokenize, word_tokenize\n",
    "from nltk.stem import WordNetLemmatizer, SnowballStemmer\n",
    "\n",
    "# stopWords\n",
    "nltk.download('stopwords')\n",
    "from nltk.corpus import stopwords\n",
    "sw = stopwords.words(\"english\")\n",
    "\n",
    "# NLP packages\n",
    "from textblob import TextBlob"
   ]
  },
  {
   "cell_type": "code",
   "execution_count": 15,
   "metadata": {},
   "outputs": [],
   "source": [
    "# define coment dictionaries list\n",
    "comment_data = []\n",
    "\n",
    "# define directory path\n",
    "DIR_PATH = \"./../../../comments/\""
   ]
  },
  {
   "cell_type": "code",
   "execution_count": 16,
   "metadata": {},
   "outputs": [],
   "source": [
    "# go over all files in the dir\n",
    "for file_name in os.listdir(DIR_PATH):\n",
    "    \n",
    "    # check if the file is a json comment file\n",
    "    if file_name.endswith('comments.json'):\n",
    "        \n",
    "        # get the entire path of the file\n",
    "        json_file_path = os.path.join(DIR_PATH, file_name)\n",
    "        \n",
    "        # open the json file\n",
    "        with open (json_file_path, \"r\") as f:\n",
    "            \n",
    "            # load file to dict\n",
    "            json_data = json.load(f)\n",
    "        \n",
    "        # go over the comments \n",
    "        for comment in json_data:\n",
    "\n",
    "            # slice comment meta data\n",
    "            comment_meta = {\n",
    "                \"comment_id\" : comment.get('id'), \n",
    "                \"comment\" : comment.get('commentText'),\n",
    "                \"user_id\" : comment.get('author').get('id'),\n",
    "                \"video_id\" : file_name[:-14]\n",
    "            }\n",
    "            \n",
    "            # append the data to the final list\n",
    "            comment_data.append(comment_meta)"
   ]
  },
  {
   "cell_type": "markdown",
   "metadata": {},
   "source": [
    "<div class=\"alert alert-info\" style=\"background-color:#5d3a8e; color:white; padding:0px 10px; border-radius:5px;\"><h2 style='margin:10px 5px'> Create dataframe</h2>\n",
    "</div>"
   ]
  },
  {
   "cell_type": "code",
   "execution_count": 17,
   "metadata": {},
   "outputs": [],
   "source": [
    "# create the dataframe \n",
    "comment_data_df = pd.DataFrame(comment_data)"
   ]
  },
  {
   "cell_type": "code",
   "execution_count": 29,
   "metadata": {},
   "outputs": [
    {
     "data": {
      "text/html": [
       "<div>\n",
       "<style scoped>\n",
       "    .dataframe tbody tr th:only-of-type {\n",
       "        vertical-align: middle;\n",
       "    }\n",
       "\n",
       "    .dataframe tbody tr th {\n",
       "        vertical-align: top;\n",
       "    }\n",
       "\n",
       "    .dataframe thead th {\n",
       "        text-align: right;\n",
       "    }\n",
       "</style>\n",
       "<table border=\"1\" class=\"dataframe\">\n",
       "  <thead>\n",
       "    <tr style=\"text-align: right;\">\n",
       "      <th></th>\n",
       "      <th>comment_id</th>\n",
       "      <th>comment</th>\n",
       "      <th>user_id</th>\n",
       "      <th>video_id</th>\n",
       "    </tr>\n",
       "  </thead>\n",
       "  <tbody>\n",
       "    <tr>\n",
       "      <th>0</th>\n",
       "      <td>UgxxbiYbyE-8dvwdhhN4AaABAg</td>\n",
       "      <td>Who&amp;#39;s from 2021</td>\n",
       "      <td>UCZ5PuK7lI3nbyJzF6FqGr4A</td>\n",
       "      <td>ClRH1aQuP_Q</td>\n",
       "    </tr>\n",
       "    <tr>\n",
       "      <th>1</th>\n",
       "      <td>UgxG1-BosIxdVhhBaAt4AaABAg</td>\n",
       "      <td>Ahhh. So this is what dbrand looked like back ...</td>\n",
       "      <td>UCawT3eZDr1TevBhNHy-0Ilw</td>\n",
       "      <td>ClRH1aQuP_Q</td>\n",
       "    </tr>\n",
       "    <tr>\n",
       "      <th>2</th>\n",
       "      <td>Ugy4sBuOaAl16zTyZA14AaABAg</td>\n",
       "      <td>MY GOD</td>\n",
       "      <td>UCv-mX9oG3kSBcxEDHg299KA</td>\n",
       "      <td>ClRH1aQuP_Q</td>\n",
       "    </tr>\n",
       "    <tr>\n",
       "      <th>3</th>\n",
       "      <td>UgziFtIlBMiQnPZsggp4AaABAg</td>\n",
       "      <td>2020</td>\n",
       "      <td>UCYMPRzaW0ElU5aLZKpsuEBg</td>\n",
       "      <td>ClRH1aQuP_Q</td>\n",
       "    </tr>\n",
       "    <tr>\n",
       "      <th>4</th>\n",
       "      <td>UgzJCQUwyi68Uu7fexp4AaABAg</td>\n",
       "      <td>It’s the year 2020 and little did anyone think...</td>\n",
       "      <td>UC8Vswk4tmtNxb73eipXBLQg</td>\n",
       "      <td>ClRH1aQuP_Q</td>\n",
       "    </tr>\n",
       "  </tbody>\n",
       "</table>\n",
       "</div>"
      ],
      "text/plain": [
       "                   comment_id  \\\n",
       "0  UgxxbiYbyE-8dvwdhhN4AaABAg   \n",
       "1  UgxG1-BosIxdVhhBaAt4AaABAg   \n",
       "2  Ugy4sBuOaAl16zTyZA14AaABAg   \n",
       "3  UgziFtIlBMiQnPZsggp4AaABAg   \n",
       "4  UgzJCQUwyi68Uu7fexp4AaABAg   \n",
       "\n",
       "                                             comment  \\\n",
       "0                                Who&#39;s from 2021   \n",
       "1  Ahhh. So this is what dbrand looked like back ...   \n",
       "2                                             MY GOD   \n",
       "3                                               2020   \n",
       "4  It’s the year 2020 and little did anyone think...   \n",
       "\n",
       "                    user_id     video_id  \n",
       "0  UCZ5PuK7lI3nbyJzF6FqGr4A  ClRH1aQuP_Q  \n",
       "1  UCawT3eZDr1TevBhNHy-0Ilw  ClRH1aQuP_Q  \n",
       "2  UCv-mX9oG3kSBcxEDHg299KA  ClRH1aQuP_Q  \n",
       "3  UCYMPRzaW0ElU5aLZKpsuEBg  ClRH1aQuP_Q  \n",
       "4  UC8Vswk4tmtNxb73eipXBLQg  ClRH1aQuP_Q  "
      ]
     },
     "execution_count": 29,
     "metadata": {},
     "output_type": "execute_result"
    }
   ],
   "source": [
    "# show first five rows\n",
    "comment_data_df.head()"
   ]
  },
  {
   "cell_type": "code",
   "execution_count": 43,
   "metadata": {},
   "outputs": [],
   "source": [
    "# # save dataframe\n",
    "# comment_data_df.to_parquet('comment_data_df.parquet.gzip', compression='gzip')"
   ]
  },
  {
   "cell_type": "code",
   "execution_count": 4,
   "metadata": {},
   "outputs": [],
   "source": [
    "# read dataframe\n",
    "comment_data_df = pd.read_parquet('./../../../comment_data_df.parquet.gzip')  "
   ]
  },
  {
   "cell_type": "code",
   "execution_count": 34,
   "metadata": {},
   "outputs": [
    {
     "data": {
      "text/html": [
       "<div>\n",
       "<style scoped>\n",
       "    .dataframe tbody tr th:only-of-type {\n",
       "        vertical-align: middle;\n",
       "    }\n",
       "\n",
       "    .dataframe tbody tr th {\n",
       "        vertical-align: top;\n",
       "    }\n",
       "\n",
       "    .dataframe thead th {\n",
       "        text-align: right;\n",
       "    }\n",
       "</style>\n",
       "<table border=\"1\" class=\"dataframe\">\n",
       "  <thead>\n",
       "    <tr style=\"text-align: right;\">\n",
       "      <th></th>\n",
       "      <th>comment_id</th>\n",
       "      <th>comment</th>\n",
       "      <th>user_id</th>\n",
       "      <th>video_id</th>\n",
       "    </tr>\n",
       "  </thead>\n",
       "  <tbody>\n",
       "    <tr>\n",
       "      <th>0</th>\n",
       "      <td>UgxxbiYbyE-8dvwdhhN4AaABAg</td>\n",
       "      <td>Who&amp;#39;s from 2021</td>\n",
       "      <td>UCZ5PuK7lI3nbyJzF6FqGr4A</td>\n",
       "      <td>ClRH1aQuP_Q</td>\n",
       "    </tr>\n",
       "    <tr>\n",
       "      <th>1</th>\n",
       "      <td>UgxG1-BosIxdVhhBaAt4AaABAg</td>\n",
       "      <td>Ahhh. So this is what dbrand looked like back ...</td>\n",
       "      <td>UCawT3eZDr1TevBhNHy-0Ilw</td>\n",
       "      <td>ClRH1aQuP_Q</td>\n",
       "    </tr>\n",
       "    <tr>\n",
       "      <th>2</th>\n",
       "      <td>Ugy4sBuOaAl16zTyZA14AaABAg</td>\n",
       "      <td>MY GOD</td>\n",
       "      <td>UCv-mX9oG3kSBcxEDHg299KA</td>\n",
       "      <td>ClRH1aQuP_Q</td>\n",
       "    </tr>\n",
       "    <tr>\n",
       "      <th>3</th>\n",
       "      <td>UgziFtIlBMiQnPZsggp4AaABAg</td>\n",
       "      <td>2020</td>\n",
       "      <td>UCYMPRzaW0ElU5aLZKpsuEBg</td>\n",
       "      <td>ClRH1aQuP_Q</td>\n",
       "    </tr>\n",
       "    <tr>\n",
       "      <th>4</th>\n",
       "      <td>UgzJCQUwyi68Uu7fexp4AaABAg</td>\n",
       "      <td>It’s the year 2020 and little did anyone think...</td>\n",
       "      <td>UC8Vswk4tmtNxb73eipXBLQg</td>\n",
       "      <td>ClRH1aQuP_Q</td>\n",
       "    </tr>\n",
       "  </tbody>\n",
       "</table>\n",
       "</div>"
      ],
      "text/plain": [
       "                   comment_id  \\\n",
       "0  UgxxbiYbyE-8dvwdhhN4AaABAg   \n",
       "1  UgxG1-BosIxdVhhBaAt4AaABAg   \n",
       "2  Ugy4sBuOaAl16zTyZA14AaABAg   \n",
       "3  UgziFtIlBMiQnPZsggp4AaABAg   \n",
       "4  UgzJCQUwyi68Uu7fexp4AaABAg   \n",
       "\n",
       "                                             comment  \\\n",
       "0                                Who&#39;s from 2021   \n",
       "1  Ahhh. So this is what dbrand looked like back ...   \n",
       "2                                             MY GOD   \n",
       "3                                               2020   \n",
       "4  It’s the year 2020 and little did anyone think...   \n",
       "\n",
       "                    user_id     video_id  \n",
       "0  UCZ5PuK7lI3nbyJzF6FqGr4A  ClRH1aQuP_Q  \n",
       "1  UCawT3eZDr1TevBhNHy-0Ilw  ClRH1aQuP_Q  \n",
       "2  UCv-mX9oG3kSBcxEDHg299KA  ClRH1aQuP_Q  \n",
       "3  UCYMPRzaW0ElU5aLZKpsuEBg  ClRH1aQuP_Q  \n",
       "4  UC8Vswk4tmtNxb73eipXBLQg  ClRH1aQuP_Q  "
      ]
     },
     "execution_count": 34,
     "metadata": {},
     "output_type": "execute_result"
    }
   ],
   "source": [
    "comment_data_df.head()"
   ]
  },
  {
   "cell_type": "code",
   "execution_count": 6,
   "metadata": {},
   "outputs": [
    {
     "data": {
      "text/plain": [
       "(15154352, 4)"
      ]
     },
     "execution_count": 6,
     "metadata": {},
     "output_type": "execute_result"
    }
   ],
   "source": [
    "# get number of rows\n",
    "comment_data_df.shape"
   ]
  },
  {
   "cell_type": "markdown",
   "metadata": {},
   "source": [
    "> we have 15 million comments"
   ]
  },
  {
   "cell_type": "code",
   "execution_count": 7,
   "metadata": {},
   "outputs": [
    {
     "data": {
      "text/plain": [
       "comment_id    False\n",
       "comment       False\n",
       "user_id       False\n",
       "video_id      False\n",
       "dtype: bool"
      ]
     },
     "execution_count": 7,
     "metadata": {},
     "output_type": "execute_result"
    }
   ],
   "source": [
    "# check for nulls\n",
    "comment_data_df.isnull().any()"
   ]
  },
  {
   "cell_type": "markdown",
   "metadata": {},
   "source": [
    "<div class=\"alert alert-info\" style=\"background-color:#5d3a8e; color:white; padding:0px 10px; border-radius:5px;\"><h2 style='margin:10px 5px'> Topic modeling</h2>\n",
    "</div>"
   ]
  },
  {
   "cell_type": "markdown",
   "metadata": {},
   "source": [
    "### - preprocessing"
   ]
  },
  {
   "cell_type": "code",
   "execution_count": 8,
   "metadata": {},
   "outputs": [],
   "source": [
    "def preprocess(data):\n",
    "    data = data.translate(str.maketrans('', '', string.punctuation))\n",
    "\n",
    "    nltk_tokens = nltk.word_tokenize(data)\n",
    "    cleanTokens = [x for x in nltk_tokens if not x in sw]\n",
    "\n",
    "    stems = []\n",
    "    ps = PorterStemmer()\n",
    "    for w in cleanTokens:\n",
    "        stems.append(ps.stem(WordNetLemmatizer().lemmatize(w, pos='v'))) \n",
    "        \n",
    "    return stems \n"
   ]
  },
  {
   "cell_type": "markdown",
   "metadata": {},
   "source": [
    "### - reading model"
   ]
  },
  {
   "cell_type": "code",
   "execution_count": 11,
   "metadata": {},
   "outputs": [],
   "source": [
    "# define lda model path\n",
    "lda_model_path = datapath(\"/Users/emadarmiti/Desktop/cap-s6/data mining/\"+\n",
    "                          \"community_detection/Community-Detection/Data-Processing-(Stage 1)/LDAmodel\")"
   ]
  },
  {
   "cell_type": "code",
   "execution_count": 12,
   "metadata": {},
   "outputs": [],
   "source": [
    "# load the model from disk\n",
    "lda_model = models.ldamodel.LdaModel.load(lda_model_path)"
   ]
  },
  {
   "cell_type": "code",
   "execution_count": 13,
   "metadata": {},
   "outputs": [],
   "source": [
    "# define dictionary path\n",
    "dictionary_path = datapath(\"/Users/emadarmiti/Desktop/cap-s6/data mining/\"+\n",
    "                          \"community_detection/Community-Detection/Data-Processing-(Stage 1)/dictionary\")"
   ]
  },
  {
   "cell_type": "code",
   "execution_count": 14,
   "metadata": {},
   "outputs": [],
   "source": [
    "# load the dictionary\n",
    "dictionary = gensim.corpora.Dictionary.load(dictionary_path)"
   ]
  },
  {
   "cell_type": "markdown",
   "metadata": {},
   "source": [
    "### - topic modeling"
   ]
  },
  {
   "cell_type": "code",
   "execution_count": null,
   "metadata": {},
   "outputs": [],
   "source": [
    "# get the topic of all comments\n",
    "comment_data_df['topic'] = comment_data_df['comment'].apply(lambda comment:\n",
    "                           sorted(lda_model[dictionary.doc2bow(preprocess(comment))],key=lambda tup: -1*tup[1])[0])\n"
   ]
  },
  {
   "cell_type": "markdown",
   "metadata": {},
   "source": [
    "<div class=\"alert alert-info\" style=\"background-color:#5d3a8e; color:white; padding:0px 10px; border-radius:5px;\"><h2 style='margin:10px 5px'>Sentiment analysis </h2>\n",
    "</div>"
   ]
  },
  {
   "cell_type": "code",
   "execution_count": 35,
   "metadata": {},
   "outputs": [],
   "source": [
    "def sentiment_calc(text):\n",
    "    \"\"\"\n",
    "    Calculating the Sentiment Polarity\n",
    "    if the text cannot be processed by TextBlob (not string format)\n",
    "    then return None \n",
    "    else compute the polarity\n",
    "    \"\"\"\n",
    "    try:\n",
    "        return TextBlob(text).sentiment.polarity\n",
    "    except:\n",
    "        return None\n"
   ]
  },
  {
   "cell_type": "code",
   "execution_count": null,
   "metadata": {},
   "outputs": [],
   "source": [
    "# get the sentiment of the comments\n",
    "comment_data_df['sentiment'] = comment_data_df['comment'].apply(sentiment_calc)"
   ]
  },
  {
   "cell_type": "markdown",
   "metadata": {},
   "source": [
    "<div class=\"alert alert-info\" style=\"background-color:#5d3a8e; color:white; padding:0px 10px; border-radius:5px;\"><h2 style='margin:10px 5px'> Dealing with low confidence comment topics</h2>\n",
    "</div>"
   ]
  },
  {
   "cell_type": "markdown",
   "metadata": {},
   "source": [
    "### - reading datasets"
   ]
  },
  {
   "cell_type": "code",
   "execution_count": 2,
   "metadata": {},
   "outputs": [],
   "source": [
    "# read comment topic modeling\n",
    "comment_topic = pd.read_parquet('./../../../comment_data_df_topic_modeling.parquet.gzip')  "
   ]
  },
  {
   "cell_type": "code",
   "execution_count": 23,
   "metadata": {},
   "outputs": [],
   "source": [
    "# read video topic modeling\n",
    "video_topic = pd.read_csv(\"./../../Data-Processing-(Stage 1)/videosAndTopics.csv\")"
   ]
  },
  {
   "cell_type": "markdown",
   "metadata": {},
   "source": [
    "### - get low topic confidence comments"
   ]
  },
  {
   "cell_type": "code",
   "execution_count": 4,
   "metadata": {},
   "outputs": [],
   "source": [
    "# get cemment below 0.6 confidence\n",
    "low_confidence_comments = comment_topic[comment_topic['confidence']<0.6]"
   ]
  },
  {
   "cell_type": "code",
   "execution_count": 7,
   "metadata": {},
   "outputs": [
    {
     "data": {
      "text/html": [
       "<div>\n",
       "<style scoped>\n",
       "    .dataframe tbody tr th:only-of-type {\n",
       "        vertical-align: middle;\n",
       "    }\n",
       "\n",
       "    .dataframe tbody tr th {\n",
       "        vertical-align: top;\n",
       "    }\n",
       "\n",
       "    .dataframe thead th {\n",
       "        text-align: right;\n",
       "    }\n",
       "</style>\n",
       "<table border=\"1\" class=\"dataframe\">\n",
       "  <thead>\n",
       "    <tr style=\"text-align: right;\">\n",
       "      <th></th>\n",
       "      <th>comment_id</th>\n",
       "      <th>comment</th>\n",
       "      <th>user_id</th>\n",
       "      <th>video_id</th>\n",
       "      <th>topicID</th>\n",
       "      <th>confidence</th>\n",
       "    </tr>\n",
       "  </thead>\n",
       "  <tbody>\n",
       "    <tr>\n",
       "      <th>0</th>\n",
       "      <td>UgxxbiYbyE-8dvwdhhN4AaABAg</td>\n",
       "      <td>Who&amp;#39;s from 2021</td>\n",
       "      <td>UCZ5PuK7lI3nbyJzF6FqGr4A</td>\n",
       "      <td>ClRH1aQuP_Q</td>\n",
       "      <td>11</td>\n",
       "      <td>0.516047</td>\n",
       "    </tr>\n",
       "    <tr>\n",
       "      <th>1</th>\n",
       "      <td>UgxG1-BosIxdVhhBaAt4AaABAg</td>\n",
       "      <td>Ahhh. So this is what dbrand looked like back ...</td>\n",
       "      <td>UCawT3eZDr1TevBhNHy-0Ilw</td>\n",
       "      <td>ClRH1aQuP_Q</td>\n",
       "      <td>15</td>\n",
       "      <td>0.484454</td>\n",
       "    </tr>\n",
       "    <tr>\n",
       "      <th>2</th>\n",
       "      <td>Ugy4sBuOaAl16zTyZA14AaABAg</td>\n",
       "      <td>MY GOD</td>\n",
       "      <td>UCv-mX9oG3kSBcxEDHg299KA</td>\n",
       "      <td>ClRH1aQuP_Q</td>\n",
       "      <td>20</td>\n",
       "      <td>0.516570</td>\n",
       "    </tr>\n",
       "    <tr>\n",
       "      <th>3</th>\n",
       "      <td>UgziFtIlBMiQnPZsggp4AaABAg</td>\n",
       "      <td>2020</td>\n",
       "      <td>UCYMPRzaW0ElU5aLZKpsuEBg</td>\n",
       "      <td>ClRH1aQuP_Q</td>\n",
       "      <td>28</td>\n",
       "      <td>0.516540</td>\n",
       "    </tr>\n",
       "    <tr>\n",
       "      <th>6</th>\n",
       "      <td>Ugx_hnT8TVbD5Ru7joh4AaABAg</td>\n",
       "      <td>Wow 2013 to 2009</td>\n",
       "      <td>UCow13dvmTlgnAsOFfXh_ysw</td>\n",
       "      <td>ClRH1aQuP_Q</td>\n",
       "      <td>21</td>\n",
       "      <td>0.415540</td>\n",
       "    </tr>\n",
       "  </tbody>\n",
       "</table>\n",
       "</div>"
      ],
      "text/plain": [
       "                   comment_id  \\\n",
       "0  UgxxbiYbyE-8dvwdhhN4AaABAg   \n",
       "1  UgxG1-BosIxdVhhBaAt4AaABAg   \n",
       "2  Ugy4sBuOaAl16zTyZA14AaABAg   \n",
       "3  UgziFtIlBMiQnPZsggp4AaABAg   \n",
       "6  Ugx_hnT8TVbD5Ru7joh4AaABAg   \n",
       "\n",
       "                                             comment  \\\n",
       "0                                Who&#39;s from 2021   \n",
       "1  Ahhh. So this is what dbrand looked like back ...   \n",
       "2                                             MY GOD   \n",
       "3                                               2020   \n",
       "6                                   Wow 2013 to 2009   \n",
       "\n",
       "                    user_id     video_id  topicID  confidence  \n",
       "0  UCZ5PuK7lI3nbyJzF6FqGr4A  ClRH1aQuP_Q       11    0.516047  \n",
       "1  UCawT3eZDr1TevBhNHy-0Ilw  ClRH1aQuP_Q       15    0.484454  \n",
       "2  UCv-mX9oG3kSBcxEDHg299KA  ClRH1aQuP_Q       20    0.516570  \n",
       "3  UCYMPRzaW0ElU5aLZKpsuEBg  ClRH1aQuP_Q       28    0.516540  \n",
       "6  UCow13dvmTlgnAsOFfXh_ysw  ClRH1aQuP_Q       21    0.415540  "
      ]
     },
     "execution_count": 7,
     "metadata": {},
     "output_type": "execute_result"
    }
   ],
   "source": [
    "low_confidence_comments.head()"
   ]
  },
  {
   "cell_type": "code",
   "execution_count": 6,
   "metadata": {},
   "outputs": [
    {
     "data": {
      "text/plain": [
       "0.3500789740135375"
      ]
     },
     "execution_count": 6,
     "metadata": {},
     "output_type": "execute_result"
    }
   ],
   "source": [
    "# get the percantage of the low confidence comments\n",
    "low_confidence_comments.shape[0]/comment_topic.shape[0]"
   ]
  },
  {
   "cell_type": "markdown",
   "metadata": {},
   "source": [
    "> 35% of the comments have confidences below the threshold"
   ]
  },
  {
   "cell_type": "markdown",
   "metadata": {},
   "source": [
    "### - replace low confidence comment topic with video topic"
   ]
  },
  {
   "cell_type": "code",
   "execution_count": 10,
   "metadata": {},
   "outputs": [],
   "source": [
    "# drop topic id column\n",
    "low_confidence_comments = low_confidence_comments.drop(['topicID'], 1)"
   ]
  },
  {
   "cell_type": "code",
   "execution_count": 11,
   "metadata": {},
   "outputs": [
    {
     "data": {
      "text/html": [
       "<div>\n",
       "<style scoped>\n",
       "    .dataframe tbody tr th:only-of-type {\n",
       "        vertical-align: middle;\n",
       "    }\n",
       "\n",
       "    .dataframe tbody tr th {\n",
       "        vertical-align: top;\n",
       "    }\n",
       "\n",
       "    .dataframe thead th {\n",
       "        text-align: right;\n",
       "    }\n",
       "</style>\n",
       "<table border=\"1\" class=\"dataframe\">\n",
       "  <thead>\n",
       "    <tr style=\"text-align: right;\">\n",
       "      <th></th>\n",
       "      <th>comment_id</th>\n",
       "      <th>comment</th>\n",
       "      <th>user_id</th>\n",
       "      <th>video_id</th>\n",
       "      <th>confidence</th>\n",
       "    </tr>\n",
       "  </thead>\n",
       "  <tbody>\n",
       "    <tr>\n",
       "      <th>0</th>\n",
       "      <td>UgxxbiYbyE-8dvwdhhN4AaABAg</td>\n",
       "      <td>Who&amp;#39;s from 2021</td>\n",
       "      <td>UCZ5PuK7lI3nbyJzF6FqGr4A</td>\n",
       "      <td>ClRH1aQuP_Q</td>\n",
       "      <td>0.516047</td>\n",
       "    </tr>\n",
       "    <tr>\n",
       "      <th>1</th>\n",
       "      <td>UgxG1-BosIxdVhhBaAt4AaABAg</td>\n",
       "      <td>Ahhh. So this is what dbrand looked like back ...</td>\n",
       "      <td>UCawT3eZDr1TevBhNHy-0Ilw</td>\n",
       "      <td>ClRH1aQuP_Q</td>\n",
       "      <td>0.484454</td>\n",
       "    </tr>\n",
       "    <tr>\n",
       "      <th>2</th>\n",
       "      <td>Ugy4sBuOaAl16zTyZA14AaABAg</td>\n",
       "      <td>MY GOD</td>\n",
       "      <td>UCv-mX9oG3kSBcxEDHg299KA</td>\n",
       "      <td>ClRH1aQuP_Q</td>\n",
       "      <td>0.516570</td>\n",
       "    </tr>\n",
       "    <tr>\n",
       "      <th>3</th>\n",
       "      <td>UgziFtIlBMiQnPZsggp4AaABAg</td>\n",
       "      <td>2020</td>\n",
       "      <td>UCYMPRzaW0ElU5aLZKpsuEBg</td>\n",
       "      <td>ClRH1aQuP_Q</td>\n",
       "      <td>0.516540</td>\n",
       "    </tr>\n",
       "    <tr>\n",
       "      <th>6</th>\n",
       "      <td>Ugx_hnT8TVbD5Ru7joh4AaABAg</td>\n",
       "      <td>Wow 2013 to 2009</td>\n",
       "      <td>UCow13dvmTlgnAsOFfXh_ysw</td>\n",
       "      <td>ClRH1aQuP_Q</td>\n",
       "      <td>0.415540</td>\n",
       "    </tr>\n",
       "  </tbody>\n",
       "</table>\n",
       "</div>"
      ],
      "text/plain": [
       "                   comment_id  \\\n",
       "0  UgxxbiYbyE-8dvwdhhN4AaABAg   \n",
       "1  UgxG1-BosIxdVhhBaAt4AaABAg   \n",
       "2  Ugy4sBuOaAl16zTyZA14AaABAg   \n",
       "3  UgziFtIlBMiQnPZsggp4AaABAg   \n",
       "6  Ugx_hnT8TVbD5Ru7joh4AaABAg   \n",
       "\n",
       "                                             comment  \\\n",
       "0                                Who&#39;s from 2021   \n",
       "1  Ahhh. So this is what dbrand looked like back ...   \n",
       "2                                             MY GOD   \n",
       "3                                               2020   \n",
       "6                                   Wow 2013 to 2009   \n",
       "\n",
       "                    user_id     video_id  confidence  \n",
       "0  UCZ5PuK7lI3nbyJzF6FqGr4A  ClRH1aQuP_Q    0.516047  \n",
       "1  UCawT3eZDr1TevBhNHy-0Ilw  ClRH1aQuP_Q    0.484454  \n",
       "2  UCv-mX9oG3kSBcxEDHg299KA  ClRH1aQuP_Q    0.516570  \n",
       "3  UCYMPRzaW0ElU5aLZKpsuEBg  ClRH1aQuP_Q    0.516540  \n",
       "6  UCow13dvmTlgnAsOFfXh_ysw  ClRH1aQuP_Q    0.415540  "
      ]
     },
     "execution_count": 11,
     "metadata": {},
     "output_type": "execute_result"
    }
   ],
   "source": [
    "low_confidence_comments.head()"
   ]
  },
  {
   "cell_type": "code",
   "execution_count": 24,
   "metadata": {},
   "outputs": [],
   "source": [
    "# delete unnecessary columns and rename the video column\n",
    "video_topic = video_topic.drop(['Unnamed: 0', 'stems', 'confidence'], 1).rename({\"videoId\":\"video_id\"}, axis=1)"
   ]
  },
  {
   "cell_type": "code",
   "execution_count": 25,
   "metadata": {},
   "outputs": [
    {
     "data": {
      "text/html": [
       "<div>\n",
       "<style scoped>\n",
       "    .dataframe tbody tr th:only-of-type {\n",
       "        vertical-align: middle;\n",
       "    }\n",
       "\n",
       "    .dataframe tbody tr th {\n",
       "        vertical-align: top;\n",
       "    }\n",
       "\n",
       "    .dataframe thead th {\n",
       "        text-align: right;\n",
       "    }\n",
       "</style>\n",
       "<table border=\"1\" class=\"dataframe\">\n",
       "  <thead>\n",
       "    <tr style=\"text-align: right;\">\n",
       "      <th></th>\n",
       "      <th>video_id</th>\n",
       "      <th>topicID</th>\n",
       "    </tr>\n",
       "  </thead>\n",
       "  <tbody>\n",
       "    <tr>\n",
       "      <th>0</th>\n",
       "      <td>-7gyHZEving</td>\n",
       "      <td>26</td>\n",
       "    </tr>\n",
       "    <tr>\n",
       "      <th>1</th>\n",
       "      <td>-cOYX11AfPc</td>\n",
       "      <td>14</td>\n",
       "    </tr>\n",
       "    <tr>\n",
       "      <th>2</th>\n",
       "      <td>-g1mHQwkpQY</td>\n",
       "      <td>26</td>\n",
       "    </tr>\n",
       "    <tr>\n",
       "      <th>3</th>\n",
       "      <td>-lCQMFC2D5Q</td>\n",
       "      <td>26</td>\n",
       "    </tr>\n",
       "    <tr>\n",
       "      <th>4</th>\n",
       "      <td>-My0ls6Da-c</td>\n",
       "      <td>26</td>\n",
       "    </tr>\n",
       "  </tbody>\n",
       "</table>\n",
       "</div>"
      ],
      "text/plain": [
       "      video_id  topicID\n",
       "0  -7gyHZEving       26\n",
       "1  -cOYX11AfPc       14\n",
       "2  -g1mHQwkpQY       26\n",
       "3  -lCQMFC2D5Q       26\n",
       "4  -My0ls6Da-c       26"
      ]
     },
     "execution_count": 25,
     "metadata": {},
     "output_type": "execute_result"
    }
   ],
   "source": [
    "video_topic.head()"
   ]
  },
  {
   "cell_type": "code",
   "execution_count": 27,
   "metadata": {},
   "outputs": [],
   "source": [
    "# merge the video dataframe with low confidence one on video id\n",
    "new_topics_low_confidence = low_confidence_comments.merge(video_topic, on='video_id')"
   ]
  },
  {
   "cell_type": "code",
   "execution_count": 28,
   "metadata": {},
   "outputs": [
    {
     "data": {
      "text/html": [
       "<div>\n",
       "<style scoped>\n",
       "    .dataframe tbody tr th:only-of-type {\n",
       "        vertical-align: middle;\n",
       "    }\n",
       "\n",
       "    .dataframe tbody tr th {\n",
       "        vertical-align: top;\n",
       "    }\n",
       "\n",
       "    .dataframe thead th {\n",
       "        text-align: right;\n",
       "    }\n",
       "</style>\n",
       "<table border=\"1\" class=\"dataframe\">\n",
       "  <thead>\n",
       "    <tr style=\"text-align: right;\">\n",
       "      <th></th>\n",
       "      <th>comment_id</th>\n",
       "      <th>comment</th>\n",
       "      <th>user_id</th>\n",
       "      <th>video_id</th>\n",
       "      <th>confidence</th>\n",
       "      <th>topicID</th>\n",
       "    </tr>\n",
       "  </thead>\n",
       "  <tbody>\n",
       "    <tr>\n",
       "      <th>0</th>\n",
       "      <td>UgxxbiYbyE-8dvwdhhN4AaABAg</td>\n",
       "      <td>Who&amp;#39;s from 2021</td>\n",
       "      <td>UCZ5PuK7lI3nbyJzF6FqGr4A</td>\n",
       "      <td>ClRH1aQuP_Q</td>\n",
       "      <td>0.516047</td>\n",
       "      <td>28</td>\n",
       "    </tr>\n",
       "    <tr>\n",
       "      <th>1</th>\n",
       "      <td>UgxG1-BosIxdVhhBaAt4AaABAg</td>\n",
       "      <td>Ahhh. So this is what dbrand looked like back ...</td>\n",
       "      <td>UCawT3eZDr1TevBhNHy-0Ilw</td>\n",
       "      <td>ClRH1aQuP_Q</td>\n",
       "      <td>0.484454</td>\n",
       "      <td>28</td>\n",
       "    </tr>\n",
       "    <tr>\n",
       "      <th>2</th>\n",
       "      <td>Ugy4sBuOaAl16zTyZA14AaABAg</td>\n",
       "      <td>MY GOD</td>\n",
       "      <td>UCv-mX9oG3kSBcxEDHg299KA</td>\n",
       "      <td>ClRH1aQuP_Q</td>\n",
       "      <td>0.516570</td>\n",
       "      <td>28</td>\n",
       "    </tr>\n",
       "    <tr>\n",
       "      <th>3</th>\n",
       "      <td>UgziFtIlBMiQnPZsggp4AaABAg</td>\n",
       "      <td>2020</td>\n",
       "      <td>UCYMPRzaW0ElU5aLZKpsuEBg</td>\n",
       "      <td>ClRH1aQuP_Q</td>\n",
       "      <td>0.516540</td>\n",
       "      <td>28</td>\n",
       "    </tr>\n",
       "    <tr>\n",
       "      <th>4</th>\n",
       "      <td>Ugx_hnT8TVbD5Ru7joh4AaABAg</td>\n",
       "      <td>Wow 2013 to 2009</td>\n",
       "      <td>UCow13dvmTlgnAsOFfXh_ysw</td>\n",
       "      <td>ClRH1aQuP_Q</td>\n",
       "      <td>0.415540</td>\n",
       "      <td>28</td>\n",
       "    </tr>\n",
       "  </tbody>\n",
       "</table>\n",
       "</div>"
      ],
      "text/plain": [
       "                   comment_id  \\\n",
       "0  UgxxbiYbyE-8dvwdhhN4AaABAg   \n",
       "1  UgxG1-BosIxdVhhBaAt4AaABAg   \n",
       "2  Ugy4sBuOaAl16zTyZA14AaABAg   \n",
       "3  UgziFtIlBMiQnPZsggp4AaABAg   \n",
       "4  Ugx_hnT8TVbD5Ru7joh4AaABAg   \n",
       "\n",
       "                                             comment  \\\n",
       "0                                Who&#39;s from 2021   \n",
       "1  Ahhh. So this is what dbrand looked like back ...   \n",
       "2                                             MY GOD   \n",
       "3                                               2020   \n",
       "4                                   Wow 2013 to 2009   \n",
       "\n",
       "                    user_id     video_id  confidence  topicID  \n",
       "0  UCZ5PuK7lI3nbyJzF6FqGr4A  ClRH1aQuP_Q    0.516047       28  \n",
       "1  UCawT3eZDr1TevBhNHy-0Ilw  ClRH1aQuP_Q    0.484454       28  \n",
       "2  UCv-mX9oG3kSBcxEDHg299KA  ClRH1aQuP_Q    0.516570       28  \n",
       "3  UCYMPRzaW0ElU5aLZKpsuEBg  ClRH1aQuP_Q    0.516540       28  \n",
       "4  UCow13dvmTlgnAsOFfXh_ysw  ClRH1aQuP_Q    0.415540       28  "
      ]
     },
     "execution_count": 28,
     "metadata": {},
     "output_type": "execute_result"
    }
   ],
   "source": [
    "new_topics_low_confidence.head()"
   ]
  },
  {
   "cell_type": "code",
   "execution_count": 33,
   "metadata": {},
   "outputs": [],
   "source": [
    "# get the comment with confidence above threshold and concat it with previous dataframe\n",
    "new_comment_topic = pd.concat([comment_topic[comment_topic['confidence']>=0.6],\n",
    "                               new_topics_low_confidence]).drop(['confidence'], 1)"
   ]
  },
  {
   "cell_type": "code",
   "execution_count": 34,
   "metadata": {},
   "outputs": [
    {
     "data": {
      "text/html": [
       "<div>\n",
       "<style scoped>\n",
       "    .dataframe tbody tr th:only-of-type {\n",
       "        vertical-align: middle;\n",
       "    }\n",
       "\n",
       "    .dataframe tbody tr th {\n",
       "        vertical-align: top;\n",
       "    }\n",
       "\n",
       "    .dataframe thead th {\n",
       "        text-align: right;\n",
       "    }\n",
       "</style>\n",
       "<table border=\"1\" class=\"dataframe\">\n",
       "  <thead>\n",
       "    <tr style=\"text-align: right;\">\n",
       "      <th></th>\n",
       "      <th>comment_id</th>\n",
       "      <th>comment</th>\n",
       "      <th>user_id</th>\n",
       "      <th>video_id</th>\n",
       "      <th>topicID</th>\n",
       "    </tr>\n",
       "  </thead>\n",
       "  <tbody>\n",
       "    <tr>\n",
       "      <th>4</th>\n",
       "      <td>UgzJCQUwyi68Uu7fexp4AaABAg</td>\n",
       "      <td>It’s the year 2020 and little did anyone think...</td>\n",
       "      <td>UC8Vswk4tmtNxb73eipXBLQg</td>\n",
       "      <td>ClRH1aQuP_Q</td>\n",
       "      <td>28</td>\n",
       "    </tr>\n",
       "    <tr>\n",
       "      <th>5</th>\n",
       "      <td>UgyvxSrlfJ7p4c3qFFl4AaABAg</td>\n",
       "      <td>Little did people know, hes a tech genius</td>\n",
       "      <td>UCxlQBu6zxLgKix4AEqFQA9Q</td>\n",
       "      <td>ClRH1aQuP_Q</td>\n",
       "      <td>2</td>\n",
       "    </tr>\n",
       "    <tr>\n",
       "      <th>7</th>\n",
       "      <td>UgzHIjDvxP-MRm9VupN4AaABAg</td>\n",
       "      <td>i was bummed by Gelaskins. I have a 17&amp;quot; l...</td>\n",
       "      <td>UChzJZI4ZT9UlsPEqcvlXGkw</td>\n",
       "      <td>ClRH1aQuP_Q</td>\n",
       "      <td>24</td>\n",
       "    </tr>\n",
       "    <tr>\n",
       "      <th>8</th>\n",
       "      <td>UgzJN2-mHNd1qRUllJV4AaABAg</td>\n",
       "      <td>I put the skin on totally wrong.</td>\n",
       "      <td>UCF3S5iELTiGWSG4uC0O4PxA</td>\n",
       "      <td>ClRH1aQuP_Q</td>\n",
       "      <td>15</td>\n",
       "    </tr>\n",
       "    <tr>\n",
       "      <th>9</th>\n",
       "      <td>UgxOwy95Z7ERmXlZ7Rh4AaABAg</td>\n",
       "      <td>i hate air bubbles! lol</td>\n",
       "      <td>UCA_MKLGMYPPfncthtkrcN0g</td>\n",
       "      <td>ClRH1aQuP_Q</td>\n",
       "      <td>9</td>\n",
       "    </tr>\n",
       "  </tbody>\n",
       "</table>\n",
       "</div>"
      ],
      "text/plain": [
       "                   comment_id  \\\n",
       "4  UgzJCQUwyi68Uu7fexp4AaABAg   \n",
       "5  UgyvxSrlfJ7p4c3qFFl4AaABAg   \n",
       "7  UgzHIjDvxP-MRm9VupN4AaABAg   \n",
       "8  UgzJN2-mHNd1qRUllJV4AaABAg   \n",
       "9  UgxOwy95Z7ERmXlZ7Rh4AaABAg   \n",
       "\n",
       "                                             comment  \\\n",
       "4  It’s the year 2020 and little did anyone think...   \n",
       "5          Little did people know, hes a tech genius   \n",
       "7  i was bummed by Gelaskins. I have a 17&quot; l...   \n",
       "8                   I put the skin on totally wrong.   \n",
       "9                            i hate air bubbles! lol   \n",
       "\n",
       "                    user_id     video_id  topicID  \n",
       "4  UC8Vswk4tmtNxb73eipXBLQg  ClRH1aQuP_Q       28  \n",
       "5  UCxlQBu6zxLgKix4AEqFQA9Q  ClRH1aQuP_Q        2  \n",
       "7  UChzJZI4ZT9UlsPEqcvlXGkw  ClRH1aQuP_Q       24  \n",
       "8  UCF3S5iELTiGWSG4uC0O4PxA  ClRH1aQuP_Q       15  \n",
       "9  UCA_MKLGMYPPfncthtkrcN0g  ClRH1aQuP_Q        9  "
      ]
     },
     "execution_count": 34,
     "metadata": {},
     "output_type": "execute_result"
    }
   ],
   "source": [
    "new_comment_topic.head()"
   ]
  },
  {
   "cell_type": "code",
   "execution_count": 35,
   "metadata": {},
   "outputs": [
    {
     "data": {
      "text/plain": [
       "(15141505, 5)"
      ]
     },
     "execution_count": 35,
     "metadata": {},
     "output_type": "execute_result"
    }
   ],
   "source": [
    "new_comment_topic.shape"
   ]
  },
  {
   "cell_type": "code",
   "execution_count": null,
   "metadata": {},
   "outputs": [],
   "source": []
  }
 ],
 "metadata": {
  "kernelspec": {
   "display_name": "Python 3",
   "language": "python",
   "name": "python3"
  },
  "language_info": {
   "codemirror_mode": {
    "name": "ipython",
    "version": 3
   },
   "file_extension": ".py",
   "mimetype": "text/x-python",
   "name": "python",
   "nbconvert_exporter": "python",
   "pygments_lexer": "ipython3",
   "version": "3.8.2"
  }
 },
 "nbformat": 4,
 "nbformat_minor": 4
}
