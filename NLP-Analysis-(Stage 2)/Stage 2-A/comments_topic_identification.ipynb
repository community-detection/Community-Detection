{
 "cells": [
  {
   "cell_type": "markdown",
   "metadata": {},
   "source": [
    "<div class=\"alert alert-info\" style=\"background-color:#5d3a8e; color:white; padding:0px 10px; border-radius:5px;\"><h2 style='margin:10px 5px'> Reading comment dataset</h2>\n",
    "</div>"
   ]
  },
  {
   "cell_type": "code",
   "execution_count": 42,
   "metadata": {},
   "outputs": [],
   "source": [
    "# import libraries\n",
    "import pandas as pd\n",
    "import numpy as np\n",
    "import os\n",
    "import json"
   ]
  },
  {
   "cell_type": "code",
   "execution_count": 46,
   "metadata": {},
   "outputs": [],
   "source": [
    "# define coment dictionaries list\n",
    "comment_data = []\n",
    "\n",
    "# define directory path\n",
    "DIR_PATH = \"./comments/\""
   ]
  },
  {
   "cell_type": "code",
   "execution_count": 47,
   "metadata": {},
   "outputs": [],
   "source": [
    "# go over all files in the dir\n",
    "for file_name in os.listdir(DIR_PATH):\n",
    "    \n",
    "    # check if the file is a json comment file\n",
    "    if file_name.endswith('comments.json'):\n",
    "        \n",
    "        # get the entire path of the file\n",
    "        json_file_path = os.path.join(DIR_PATH, file_name)\n",
    "        \n",
    "        # open the json file\n",
    "        with open (json_file_path, \"r\") as f:\n",
    "            \n",
    "            # load file to dict\n",
    "            json_data = json.load(f)\n",
    "        \n",
    "        # go over the comments \n",
    "        for comment in json_data:\n",
    "\n",
    "            # slice comment meta data\n",
    "            comment_meta = {\n",
    "                \"comment_id\" : comment.get('id'), \n",
    "                \"comment\" : comment.get('commentText'),\n",
    "                \"user_id\" : comment.get('author').get('id'),\n",
    "                \"video_id\" : file_name[:-14]\n",
    "            }\n",
    "            \n",
    "            # append the data to the final list\n",
    "            comment_data.append(comment_meta)\n",
    "            \n",
    "    "
   ]
  },
  {
   "cell_type": "markdown",
   "metadata": {},
   "source": [
    "<div class=\"alert alert-info\" style=\"background-color:#5d3a8e; color:white; padding:0px 10px; border-radius:5px;\"><h2 style='margin:10px 5px'> create dataframe</h2>\n",
    "</div>"
   ]
  },
  {
   "cell_type": "code",
   "execution_count": 49,
   "metadata": {},
   "outputs": [],
   "source": [
    "# create the dataframe \n",
    "comment_data_df = pd.DataFrame(comment_data)"
   ]
  },
  {
   "cell_type": "code",
   "execution_count": 51,
   "metadata": {},
   "outputs": [
    {
     "data": {
      "text/html": [
       "<div>\n",
       "<style scoped>\n",
       "    .dataframe tbody tr th:only-of-type {\n",
       "        vertical-align: middle;\n",
       "    }\n",
       "\n",
       "    .dataframe tbody tr th {\n",
       "        vertical-align: top;\n",
       "    }\n",
       "\n",
       "    .dataframe thead th {\n",
       "        text-align: right;\n",
       "    }\n",
       "</style>\n",
       "<table border=\"1\" class=\"dataframe\">\n",
       "  <thead>\n",
       "    <tr style=\"text-align: right;\">\n",
       "      <th></th>\n",
       "      <th>comment_id</th>\n",
       "      <th>comment</th>\n",
       "      <th>user_id</th>\n",
       "      <th>video_id</th>\n",
       "    </tr>\n",
       "  </thead>\n",
       "  <tbody>\n",
       "    <tr>\n",
       "      <th>0</th>\n",
       "      <td>UgxxbiYbyE-8dvwdhhN4AaABAg</td>\n",
       "      <td>Who&amp;#39;s from 2021</td>\n",
       "      <td>UCZ5PuK7lI3nbyJzF6FqGr4A</td>\n",
       "      <td>ClRH1aQuP_Q</td>\n",
       "    </tr>\n",
       "    <tr>\n",
       "      <th>1</th>\n",
       "      <td>UgxG1-BosIxdVhhBaAt4AaABAg</td>\n",
       "      <td>Ahhh. So this is what dbrand looked like back ...</td>\n",
       "      <td>UCawT3eZDr1TevBhNHy-0Ilw</td>\n",
       "      <td>ClRH1aQuP_Q</td>\n",
       "    </tr>\n",
       "    <tr>\n",
       "      <th>2</th>\n",
       "      <td>Ugy4sBuOaAl16zTyZA14AaABAg</td>\n",
       "      <td>MY GOD</td>\n",
       "      <td>UCv-mX9oG3kSBcxEDHg299KA</td>\n",
       "      <td>ClRH1aQuP_Q</td>\n",
       "    </tr>\n",
       "    <tr>\n",
       "      <th>3</th>\n",
       "      <td>UgziFtIlBMiQnPZsggp4AaABAg</td>\n",
       "      <td>2020</td>\n",
       "      <td>UCYMPRzaW0ElU5aLZKpsuEBg</td>\n",
       "      <td>ClRH1aQuP_Q</td>\n",
       "    </tr>\n",
       "    <tr>\n",
       "      <th>4</th>\n",
       "      <td>UgzJCQUwyi68Uu7fexp4AaABAg</td>\n",
       "      <td>It’s the year 2020 and little did anyone think...</td>\n",
       "      <td>UC8Vswk4tmtNxb73eipXBLQg</td>\n",
       "      <td>ClRH1aQuP_Q</td>\n",
       "    </tr>\n",
       "  </tbody>\n",
       "</table>\n",
       "</div>"
      ],
      "text/plain": [
       "                   comment_id  \\\n",
       "0  UgxxbiYbyE-8dvwdhhN4AaABAg   \n",
       "1  UgxG1-BosIxdVhhBaAt4AaABAg   \n",
       "2  Ugy4sBuOaAl16zTyZA14AaABAg   \n",
       "3  UgziFtIlBMiQnPZsggp4AaABAg   \n",
       "4  UgzJCQUwyi68Uu7fexp4AaABAg   \n",
       "\n",
       "                                             comment  \\\n",
       "0                                Who&#39;s from 2021   \n",
       "1  Ahhh. So this is what dbrand looked like back ...   \n",
       "2                                             MY GOD   \n",
       "3                                               2020   \n",
       "4  It’s the year 2020 and little did anyone think...   \n",
       "\n",
       "                    user_id     video_id  \n",
       "0  UCZ5PuK7lI3nbyJzF6FqGr4A  ClRH1aQuP_Q  \n",
       "1  UCawT3eZDr1TevBhNHy-0Ilw  ClRH1aQuP_Q  \n",
       "2  UCv-mX9oG3kSBcxEDHg299KA  ClRH1aQuP_Q  \n",
       "3  UCYMPRzaW0ElU5aLZKpsuEBg  ClRH1aQuP_Q  \n",
       "4  UC8Vswk4tmtNxb73eipXBLQg  ClRH1aQuP_Q  "
      ]
     },
     "execution_count": 51,
     "metadata": {},
     "output_type": "execute_result"
    }
   ],
   "source": [
    "# show first five rows\n",
    "comment_data_df.head()"
   ]
  },
  {
   "cell_type": "code",
   "execution_count": null,
   "metadata": {},
   "outputs": [],
   "source": [
    "# save dataframe\n",
    "comment_data_df.to_csv(\"comment_data_df.csv\")"
   ]
  },
  {
   "cell_type": "code",
   "execution_count": null,
   "metadata": {},
   "outputs": [],
   "source": []
  }
 ],
 "metadata": {
  "kernelspec": {
   "display_name": "Python 3",
   "language": "python",
   "name": "python3"
  },
  "language_info": {
   "codemirror_mode": {
    "name": "ipython",
    "version": 3
   },
   "file_extension": ".py",
   "mimetype": "text/x-python",
   "name": "python",
   "nbconvert_exporter": "python",
   "pygments_lexer": "ipython3",
   "version": "3.8.2"
  }
 },
 "nbformat": 4,
 "nbformat_minor": 4
}
